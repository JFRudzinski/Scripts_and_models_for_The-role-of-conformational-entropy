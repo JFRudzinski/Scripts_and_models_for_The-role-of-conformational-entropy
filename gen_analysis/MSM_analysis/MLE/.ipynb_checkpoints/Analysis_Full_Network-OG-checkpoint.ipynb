{
 "cells": [
  {
   "cell_type": "code",
   "execution_count": 1,
   "metadata": {
    "collapsed": false
   },
   "outputs": [
    {
     "data": {
      "text/plain": [
       "'2.1.1'"
      ]
     },
     "execution_count": 1,
     "metadata": {},
     "output_type": "execute_result"
    }
   ],
   "source": [
    "import pyemma\n",
    "pyemma.__version__"
   ]
  },
  {
   "cell_type": "code",
   "execution_count": 2,
   "metadata": {
    "collapsed": false
   },
   "outputs": [
    {
     "name": "stdout",
     "output_type": "stream",
     "text": [
      "Populating the interactive namespace from numpy and matplotlib\n"
     ]
    }
   ],
   "source": [
    "import os\n",
    "%pylab inline\n",
    "matplotlib.rcParams.update({'font.size': 12})"
   ]
  },
  {
   "cell_type": "code",
   "execution_count": 3,
   "metadata": {
    "collapsed": true
   },
   "outputs": [],
   "source": [
    "import pyemma.coordinates as coor\n",
    "import pyemma.msm as msm\n",
    "import pyemma.plots as mplt\n",
    "import msmbuilder\n",
    "from msmbuilder.msm.ratematrix import ContinuousTimeMSM\n",
    "import scipy\n",
    "from msmtools.analysis.dense.decomposition import eigenvectors, eigenvalues\n",
    "import operator"
   ]
  },
  {
   "cell_type": "code",
   "execution_count": 8,
   "metadata": {
    "collapsed": false
   },
   "outputs": [],
   "source": [
    "# get the sorted dtraj\n",
    "indir = '/data/isilon/rudzinski/cluster_tmp/ALA7/ALA7_hybrid_AMBER_Go/wDB-HP_inter/Find_Tfold/NC_CA/epsNC-11_epsdb-0.1epsNC_epshp-4.89/Tf-267/MSM_analysis/BMSM/dtraj/AA/'\n",
    "dtraj_full_AA = np.load(indir+'dtrajs_rama_2st_allres_1D.npy')\n",
    "cc_full = np.load(indir+'cc_full.npy')\n",
    "\n",
    "# get the sorted dtraj\n",
    "indir = '/data/isilon/rudzinski/cluster_tmp/ALA7/ALA7_hybrid_AMBER_Go/wDB-HP_inter/Find_Tfold/NC_CA/2016_10_11/epsNC-8/epsNC-8_epsdb-0.00epsNC_epshp-0.5epsNC/T-400/MSM_analysis/BMSM/dtraj/'\n",
    "dtraj_full_CG = np.load(indir+'dtrajs_rama_2st_allres_1D.npy')"
   ]
  },
  {
   "cell_type": "code",
   "execution_count": 9,
   "metadata": {
    "collapsed": false
   },
   "outputs": [],
   "source": [
    "indir = '/data/isilon/rudzinski/cluster_tmp/ALA7/ALA7_hybrid_AMBER_Go/wDB-HP_inter/Find_Tfold/NC_CA/epsNC-11_epsdb-0.1epsNC_epshp-4.89/Tf-267/MSM_analysis/Network_CGing/AA/DPCA/'\n",
    "dtraj_DPCA_AA = np.genfromtxt(indir+'microstates')\n",
    "\n",
    "dtraj_DPCA_CG = np.genfromtxt('../DPCA/microstates')"
   ]
  },
  {
   "cell_type": "code",
   "execution_count": 10,
   "metadata": {
    "collapsed": false
   },
   "outputs": [],
   "source": [
    "dtraj_DPCA_AA = dtraj_DPCA_AA.astype(int)\n",
    "dtraj_DPCA_CG = dtraj_DPCA_CG.astype(int)"
   ]
  },
  {
   "cell_type": "code",
   "execution_count": 11,
   "metadata": {
    "collapsed": false
   },
   "outputs": [],
   "source": [
    "# use only one trajectory for the identification\n",
    "#dtraj_DPCA_trim = dtraj_DPCA[:int(dtraj_DPCA.shape[0]/20.)]\n",
    "# use all, but we will need to flatten dtraj_full\n",
    "dtraj_full_CG_cat = []\n",
    "dtraj_full_CG_cat.append(np.concatenate(dtraj_full_CG))"
   ]
  },
  {
   "cell_type": "code",
   "execution_count": 12,
   "metadata": {
    "collapsed": false
   },
   "outputs": [],
   "source": [
    "state_cnt_AA = []\n",
    "for state in range(len(cc_full)):\n",
    "    state_cnt_AA.append(dtraj_DPCA_AA[np.where(dtraj_full_AA[0]==state)[0]])\n",
    "    \n",
    "state_cnt_CG = []\n",
    "for state in range(len(cc_full)):\n",
    "    state_cnt_CG.append(dtraj_DPCA_CG[np.where(dtraj_full_CG_cat[0]==state)[0]])"
   ]
  },
  {
   "cell_type": "code",
   "execution_count": 13,
   "metadata": {
    "collapsed": false
   },
   "outputs": [],
   "source": [
    "state_dist_AA = []\n",
    "for state in range(len(cc_full)):\n",
    "    state_dist_AA.append([])\n",
    "    uniq = np.unique(state_cnt_AA[state])\n",
    "    for el in uniq:\n",
    "        state_dist_AA[state].append((el,len(np.where(state_cnt_AA[state]==el)[0])))\n",
    "        \n",
    "state_dist_CG = []\n",
    "for state in range(len(cc_full)):\n",
    "    state_dist_CG.append([])\n",
    "    uniq = np.unique(state_cnt_CG[state])\n",
    "    for el in uniq:\n",
    "        state_dist_CG[state].append((el,len(np.where(state_cnt_CG[state]==el)[0])))"
   ]
  },
  {
   "cell_type": "code",
   "execution_count": 14,
   "metadata": {
    "collapsed": false
   },
   "outputs": [],
   "source": [
    "state_map_AA = []\n",
    "for state in range(len(cc_full)):\n",
    "    state_map_AA.append(max(state_dist_AA[state], key=lambda x:x[1])[0])\n",
    "\n",
    "state_map_CG = []\n",
    "for state in range(len(cc_full)):\n",
    "    state_map_CG.append(max(state_dist_CG[state], key=lambda x:x[1])[0])"
   ]
  },
  {
   "cell_type": "code",
   "execution_count": 15,
   "metadata": {
    "collapsed": false
   },
   "outputs": [
    {
     "name": "stdout",
     "output_type": "stream",
     "text": [
      "32\n",
      "[   1  137    4  772  230  892   35  322  348  376  568  429  652   77 1049\n",
      "  997  136  190  189  252  169  251  229  430  349  484   56   57   48   89\n",
      "   78    8]\n",
      "32\n",
      "[137 165 138 261 225 395  90 226 259 260 166 227  86  83 164 289  66  47\n",
      "  89  87  65  63  92  46  91  88  17  16  18  19   9   2]\n"
     ]
    }
   ],
   "source": [
    "print len(np.unique(state_map_AA))\n",
    "state_map_AA = np.array(state_map_AA)\n",
    "print state_map_AA\n",
    "\n",
    "print len(np.unique(state_map_CG))\n",
    "state_map_CG = np.array(state_map_CG)\n",
    "print state_map_CG"
   ]
  },
  {
   "cell_type": "code",
   "execution_count": null,
   "metadata": {
    "collapsed": false
   },
   "outputs": [],
   "source": []
  },
  {
   "cell_type": "code",
   "execution_count": 16,
   "metadata": {
    "collapsed": false
   },
   "outputs": [],
   "source": [
    "# same approach for the CG clusters"
   ]
  },
  {
   "cell_type": "code",
   "execution_count": 17,
   "metadata": {
    "collapsed": false
   },
   "outputs": [],
   "source": [
    "# read in the clustered traj for a particular metastability"
   ]
  },
  {
   "cell_type": "code",
   "execution_count": 19,
   "metadata": {
    "collapsed": false
   },
   "outputs": [
    {
     "name": "stdout",
     "output_type": "stream",
     "text": [
      "24\n",
      "16\n",
      "9\n",
      "6\n",
      "\n"
     ]
    },
    {
     "ename": "IOError",
     "evalue": "../DPCA/mpp_traj_0.160.dat not found.",
     "output_type": "error",
     "traceback": [
      "\u001b[1;31m---------------------------------------------------------------------------\u001b[0m",
      "\u001b[1;31mIOError\u001b[0m                                   Traceback (most recent call last)",
      "\u001b[1;32m<ipython-input-19-cf77745b5b2c>\u001b[0m in \u001b[0;36m<module>\u001b[1;34m()\u001b[0m\n\u001b[0;32m     10\u001b[0m \u001b[0mmpp_vals_CG\u001b[0m \u001b[1;33m=\u001b[0m \u001b[1;33m[\u001b[0m\u001b[1;36m0.16\u001b[0m\u001b[1;33m,\u001b[0m\u001b[1;36m0.23\u001b[0m\u001b[1;33m,\u001b[0m\u001b[1;36m0.30\u001b[0m\u001b[1;33m,\u001b[0m\u001b[1;36m0.33\u001b[0m\u001b[1;33m]\u001b[0m\u001b[1;33m\u001b[0m\u001b[0m\n\u001b[0;32m     11\u001b[0m \u001b[1;32mfor\u001b[0m \u001b[0mval\u001b[0m \u001b[1;32min\u001b[0m \u001b[0mrange\u001b[0m\u001b[1;33m(\u001b[0m\u001b[0mlen\u001b[0m\u001b[1;33m(\u001b[0m\u001b[0mmpp_vals_CG\u001b[0m\u001b[1;33m)\u001b[0m\u001b[1;33m)\u001b[0m\u001b[1;33m:\u001b[0m\u001b[1;33m\u001b[0m\u001b[0m\n\u001b[1;32m---> 12\u001b[1;33m     \u001b[0mdtrajs_mpp_CG\u001b[0m\u001b[1;33m.\u001b[0m\u001b[0mappend\u001b[0m\u001b[1;33m(\u001b[0m \u001b[0mnp\u001b[0m\u001b[1;33m.\u001b[0m\u001b[0mgenfromtxt\u001b[0m\u001b[1;33m(\u001b[0m\u001b[1;34m'../DPCA/mpp_traj_'\u001b[0m\u001b[1;33m+\u001b[0m\u001b[1;34m\"{:.3f}\"\u001b[0m\u001b[1;33m.\u001b[0m\u001b[0mformat\u001b[0m\u001b[1;33m(\u001b[0m\u001b[0mmpp_vals_CG\u001b[0m\u001b[1;33m[\u001b[0m\u001b[0mval\u001b[0m\u001b[1;33m]\u001b[0m\u001b[1;33m)\u001b[0m\u001b[1;33m+\u001b[0m\u001b[1;34m'.dat'\u001b[0m\u001b[1;33m)\u001b[0m \u001b[1;33m)\u001b[0m\u001b[1;33m\u001b[0m\u001b[0m\n\u001b[0m\u001b[0;32m     13\u001b[0m     \u001b[1;32mprint\u001b[0m \u001b[0mlen\u001b[0m\u001b[1;33m(\u001b[0m\u001b[0mnp\u001b[0m\u001b[1;33m.\u001b[0m\u001b[0munique\u001b[0m\u001b[1;33m(\u001b[0m\u001b[0mdtrajs_mpp_CG\u001b[0m\u001b[1;33m[\u001b[0m\u001b[0mval\u001b[0m\u001b[1;33m]\u001b[0m\u001b[1;33m)\u001b[0m\u001b[1;33m)\u001b[0m\u001b[1;33m\u001b[0m\u001b[0m\n",
      "\u001b[1;32m/home/theorie/rudzinski/soft/anaconda/envs/PyEmma-new/lib/python2.7/site-packages/numpy/lib/npyio.pyc\u001b[0m in \u001b[0;36mgenfromtxt\u001b[1;34m(fname, dtype, comments, delimiter, skip_header, skip_footer, converters, missing_values, filling_values, usecols, names, excludelist, deletechars, replace_space, autostrip, case_sensitive, defaultfmt, unpack, usemask, loose, invalid_raise, max_rows)\u001b[0m\n\u001b[0;32m   1449\u001b[0m         \u001b[1;32mif\u001b[0m \u001b[0misinstance\u001b[0m\u001b[1;33m(\u001b[0m\u001b[0mfname\u001b[0m\u001b[1;33m,\u001b[0m \u001b[0mbasestring\u001b[0m\u001b[1;33m)\u001b[0m\u001b[1;33m:\u001b[0m\u001b[1;33m\u001b[0m\u001b[0m\n\u001b[0;32m   1450\u001b[0m             \u001b[1;32mif\u001b[0m \u001b[0msys\u001b[0m\u001b[1;33m.\u001b[0m\u001b[0mversion_info\u001b[0m\u001b[1;33m[\u001b[0m\u001b[1;36m0\u001b[0m\u001b[1;33m]\u001b[0m \u001b[1;33m==\u001b[0m \u001b[1;36m2\u001b[0m\u001b[1;33m:\u001b[0m\u001b[1;33m\u001b[0m\u001b[0m\n\u001b[1;32m-> 1451\u001b[1;33m                 \u001b[0mfhd\u001b[0m \u001b[1;33m=\u001b[0m \u001b[0miter\u001b[0m\u001b[1;33m(\u001b[0m\u001b[0mnp\u001b[0m\u001b[1;33m.\u001b[0m\u001b[0mlib\u001b[0m\u001b[1;33m.\u001b[0m\u001b[0m_datasource\u001b[0m\u001b[1;33m.\u001b[0m\u001b[0mopen\u001b[0m\u001b[1;33m(\u001b[0m\u001b[0mfname\u001b[0m\u001b[1;33m,\u001b[0m \u001b[1;34m'rbU'\u001b[0m\u001b[1;33m)\u001b[0m\u001b[1;33m)\u001b[0m\u001b[1;33m\u001b[0m\u001b[0m\n\u001b[0m\u001b[0;32m   1452\u001b[0m             \u001b[1;32melse\u001b[0m\u001b[1;33m:\u001b[0m\u001b[1;33m\u001b[0m\u001b[0m\n\u001b[0;32m   1453\u001b[0m                 \u001b[0mfhd\u001b[0m \u001b[1;33m=\u001b[0m \u001b[0miter\u001b[0m\u001b[1;33m(\u001b[0m\u001b[0mnp\u001b[0m\u001b[1;33m.\u001b[0m\u001b[0mlib\u001b[0m\u001b[1;33m.\u001b[0m\u001b[0m_datasource\u001b[0m\u001b[1;33m.\u001b[0m\u001b[0mopen\u001b[0m\u001b[1;33m(\u001b[0m\u001b[0mfname\u001b[0m\u001b[1;33m,\u001b[0m \u001b[1;34m'rb'\u001b[0m\u001b[1;33m)\u001b[0m\u001b[1;33m)\u001b[0m\u001b[1;33m\u001b[0m\u001b[0m\n",
      "\u001b[1;32m/home/theorie/rudzinski/soft/anaconda/envs/PyEmma-new/lib/python2.7/site-packages/numpy/lib/_datasource.pyc\u001b[0m in \u001b[0;36mopen\u001b[1;34m(path, mode, destpath)\u001b[0m\n\u001b[0;32m    149\u001b[0m \u001b[1;33m\u001b[0m\u001b[0m\n\u001b[0;32m    150\u001b[0m     \u001b[0mds\u001b[0m \u001b[1;33m=\u001b[0m \u001b[0mDataSource\u001b[0m\u001b[1;33m(\u001b[0m\u001b[0mdestpath\u001b[0m\u001b[1;33m)\u001b[0m\u001b[1;33m\u001b[0m\u001b[0m\n\u001b[1;32m--> 151\u001b[1;33m     \u001b[1;32mreturn\u001b[0m \u001b[0mds\u001b[0m\u001b[1;33m.\u001b[0m\u001b[0mopen\u001b[0m\u001b[1;33m(\u001b[0m\u001b[0mpath\u001b[0m\u001b[1;33m,\u001b[0m \u001b[0mmode\u001b[0m\u001b[1;33m)\u001b[0m\u001b[1;33m\u001b[0m\u001b[0m\n\u001b[0m\u001b[0;32m    152\u001b[0m \u001b[1;33m\u001b[0m\u001b[0m\n\u001b[0;32m    153\u001b[0m \u001b[1;33m\u001b[0m\u001b[0m\n",
      "\u001b[1;32m/home/theorie/rudzinski/soft/anaconda/envs/PyEmma-new/lib/python2.7/site-packages/numpy/lib/_datasource.pyc\u001b[0m in \u001b[0;36mopen\u001b[1;34m(self, path, mode)\u001b[0m\n\u001b[0;32m    499\u001b[0m             \u001b[1;32mreturn\u001b[0m \u001b[0m_file_openers\u001b[0m\u001b[1;33m[\u001b[0m\u001b[0mext\u001b[0m\u001b[1;33m]\u001b[0m\u001b[1;33m(\u001b[0m\u001b[0mfound\u001b[0m\u001b[1;33m,\u001b[0m \u001b[0mmode\u001b[0m\u001b[1;33m=\u001b[0m\u001b[0mmode\u001b[0m\u001b[1;33m)\u001b[0m\u001b[1;33m\u001b[0m\u001b[0m\n\u001b[0;32m    500\u001b[0m         \u001b[1;32melse\u001b[0m\u001b[1;33m:\u001b[0m\u001b[1;33m\u001b[0m\u001b[0m\n\u001b[1;32m--> 501\u001b[1;33m             \u001b[1;32mraise\u001b[0m \u001b[0mIOError\u001b[0m\u001b[1;33m(\u001b[0m\u001b[1;34m\"%s not found.\"\u001b[0m \u001b[1;33m%\u001b[0m \u001b[0mpath\u001b[0m\u001b[1;33m)\u001b[0m\u001b[1;33m\u001b[0m\u001b[0m\n\u001b[0m\u001b[0;32m    502\u001b[0m \u001b[1;33m\u001b[0m\u001b[0m\n\u001b[0;32m    503\u001b[0m \u001b[1;33m\u001b[0m\u001b[0m\n",
      "\u001b[1;31mIOError\u001b[0m: ../DPCA/mpp_traj_0.160.dat not found."
     ]
    }
   ],
   "source": [
    "dtrajs_mpp_AA = []\n",
    "mpp_vals_AA = [0.200,0.350,0.420,0.500]\n",
    "for val in range(len(mpp_vals_AA)):\n",
    "    dtrajs_mpp_AA.append( np.genfromtxt(indir+'mpp_traj_'+\"{:.3f}\".format(mpp_vals_AA[val])+'.dat') )\n",
    "    print len(np.unique(dtrajs_mpp_AA[val]))\n",
    "    \n",
    "print ''\n",
    "\n",
    "dtrajs_mpp_CG = []\n",
    "mpp_vals_CG = [0.16,0.23,0.30,0.33]\n",
    "for val in range(len(mpp_vals_CG)):\n",
    "    dtrajs_mpp_CG.append( np.genfromtxt('../DPCA/mpp_traj_'+\"{:.3f}\".format(mpp_vals_CG[val])+'.dat') )\n",
    "    print len(np.unique(dtrajs_mpp_CG[val]))"
   ]
  },
  {
   "cell_type": "code",
   "execution_count": null,
   "metadata": {
    "collapsed": false
   },
   "outputs": [],
   "source": [
    "mpp_state_map_AA = []\n",
    "for val in range(len(mpp_vals_AA)):\n",
    "    mpp_state_map_AA.append([])\n",
    "    uniq = np.unique(dtrajs_mpp_AA[val]).astype(int)\n",
    "    for el in uniq:\n",
    "        mpp_state_map_AA[val].append( (el,np.unique(dtraj_DPCA_AA[ np.where( dtrajs_mpp_AA[val]==el )[0] ]) ) )\n",
    "        \n",
    "mpp_state_map_CG = []\n",
    "for val in range(len(mpp_vals_CG)):\n",
    "    mpp_state_map_CG.append([])\n",
    "    uniq = np.unique(dtrajs_mpp_CG[val]).astype(int)\n",
    "    for el in uniq:\n",
    "        mpp_state_map_CG[val].append( (el,np.unique(dtraj_DPCA_CG[ np.where( dtrajs_mpp_CG[val]==el )[0] ]) ) )"
   ]
  },
  {
   "cell_type": "code",
   "execution_count": null,
   "metadata": {
    "collapsed": false
   },
   "outputs": [],
   "source": [
    "# get the map to cc_full\n",
    "mpp_state_map_full_AA = []\n",
    "for val in range(len(mpp_vals_AA)):\n",
    "    mpp_state_map_full_AA.append([])\n",
    "    uniq = np.unique(dtrajs_mpp_AA[val]).astype(int)\n",
    "    for state_mpp in range(len(uniq)):\n",
    "        map_ind = 1\n",
    "        new_arr = []\n",
    "        for el in mpp_state_map_AA[val][state_mpp][map_ind]:\n",
    "            new_arr.append(np.where( state_map_AA == el )[0][0])\n",
    "        mpp_state_map_full_AA[val].append( (uniq[state_mpp],np.array(new_arr)) )\n",
    "        \n",
    "# get the map to cc_full\n",
    "mpp_state_map_full_CG = []\n",
    "for val in range(len(mpp_vals_CG)):\n",
    "    mpp_state_map_full_CG.append([])\n",
    "    uniq = np.unique(dtrajs_mpp_CG[val]).astype(int)\n",
    "    for state_mpp in range(len(uniq)):\n",
    "        map_ind = 1\n",
    "        new_arr = []\n",
    "        for el in mpp_state_map_CG[val][state_mpp][map_ind]:\n",
    "            #new_arr.append(np.where( state_map_CG == el )[0][0])\n",
    "            new_arr.append(np.where( state_map_CG == el )[0]) # allow for non-bijectivity\n",
    "        mpp_state_map_full_CG[val].append( (uniq[state_mpp],np.array(new_arr)) )"
   ]
  },
  {
   "cell_type": "code",
   "execution_count": 20,
   "metadata": {
    "collapsed": false
   },
   "outputs": [
    {
     "ename": "NameError",
     "evalue": "name 'mpp_state_map_full_AA' is not defined",
     "output_type": "error",
     "traceback": [
      "\u001b[1;31m---------------------------------------------------------------------------\u001b[0m",
      "\u001b[1;31mNameError\u001b[0m                                 Traceback (most recent call last)",
      "\u001b[1;32m<ipython-input-20-7019dfe94b96>\u001b[0m in \u001b[0;36m<module>\u001b[1;34m()\u001b[0m\n\u001b[1;32m----> 1\u001b[1;33m \u001b[1;32mprint\u001b[0m \u001b[0mmpp_state_map_full_AA\u001b[0m\u001b[1;33m[\u001b[0m\u001b[1;36m2\u001b[0m\u001b[1;33m]\u001b[0m\u001b[1;33m\u001b[0m\u001b[0m\n\u001b[0m\u001b[0;32m      2\u001b[0m \u001b[1;32mprint\u001b[0m \u001b[1;34m''\u001b[0m\u001b[1;33m\u001b[0m\u001b[0m\n\u001b[0;32m      3\u001b[0m \u001b[1;32mprint\u001b[0m \u001b[0mmpp_state_map_full_CG\u001b[0m\u001b[1;33m[\u001b[0m\u001b[1;36m2\u001b[0m\u001b[1;33m]\u001b[0m\u001b[1;33m\u001b[0m\u001b[0m\n",
      "\u001b[1;31mNameError\u001b[0m: name 'mpp_state_map_full_AA' is not defined"
     ]
    }
   ],
   "source": [
    "print mpp_state_map_full_AA[2]\n",
    "print ''\n",
    "print mpp_state_map_full_CG[2]\n"
   ]
  },
  {
   "cell_type": "code",
   "execution_count": 21,
   "metadata": {
    "collapsed": false
   },
   "outputs": [
    {
     "ename": "NameError",
     "evalue": "name 'mpp_state_map_full_AA' is not defined",
     "output_type": "error",
     "traceback": [
      "\u001b[1;31m---------------------------------------------------------------------------\u001b[0m",
      "\u001b[1;31mNameError\u001b[0m                                 Traceback (most recent call last)",
      "\u001b[1;32m<ipython-input-21-3b1d62737db3>\u001b[0m in \u001b[0;36m<module>\u001b[1;34m()\u001b[0m\n\u001b[0;32m      4\u001b[0m     \u001b[0muniq\u001b[0m \u001b[1;33m=\u001b[0m \u001b[0mnp\u001b[0m\u001b[1;33m.\u001b[0m\u001b[0munique\u001b[0m\u001b[1;33m(\u001b[0m\u001b[0mdtrajs_mpp_AA\u001b[0m\u001b[1;33m[\u001b[0m\u001b[0mval\u001b[0m\u001b[1;33m]\u001b[0m\u001b[1;33m)\u001b[0m\u001b[1;33m.\u001b[0m\u001b[0mastype\u001b[0m\u001b[1;33m(\u001b[0m\u001b[0mint\u001b[0m\u001b[1;33m)\u001b[0m\u001b[1;33m\u001b[0m\u001b[0m\n\u001b[0;32m      5\u001b[0m     \u001b[1;32mfor\u001b[0m \u001b[0mstate_mpp\u001b[0m \u001b[1;32min\u001b[0m \u001b[0mrange\u001b[0m\u001b[1;33m(\u001b[0m\u001b[0mlen\u001b[0m\u001b[1;33m(\u001b[0m\u001b[0muniq\u001b[0m\u001b[1;33m)\u001b[0m\u001b[1;33m)\u001b[0m\u001b[1;33m:\u001b[0m\u001b[1;33m\u001b[0m\u001b[0m\n\u001b[1;32m----> 6\u001b[1;33m         \u001b[1;32mfor\u001b[0m \u001b[0mel\u001b[0m \u001b[1;32min\u001b[0m \u001b[0mmpp_state_map_full_AA\u001b[0m\u001b[1;33m[\u001b[0m\u001b[0mval\u001b[0m\u001b[1;33m]\u001b[0m\u001b[1;33m[\u001b[0m\u001b[0mstate_mpp\u001b[0m\u001b[1;33m]\u001b[0m\u001b[1;33m[\u001b[0m\u001b[0mmap_ind\u001b[0m\u001b[1;33m]\u001b[0m\u001b[1;33m:\u001b[0m\u001b[1;33m\u001b[0m\u001b[0m\n\u001b[0m\u001b[0;32m      7\u001b[0m             \u001b[0mmpp_state_backmap_full_AA\u001b[0m\u001b[1;33m[\u001b[0m\u001b[0mval\u001b[0m\u001b[1;33m]\u001b[0m\u001b[1;33m[\u001b[0m\u001b[0mel\u001b[0m\u001b[1;33m]\u001b[0m \u001b[1;33m=\u001b[0m \u001b[0mstate_mpp\u001b[0m\u001b[1;33m\u001b[0m\u001b[0m\n\u001b[0;32m      8\u001b[0m \u001b[1;33m\u001b[0m\u001b[0m\n",
      "\u001b[1;31mNameError\u001b[0m: name 'mpp_state_map_full_AA' is not defined"
     ]
    }
   ],
   "source": [
    "mpp_state_backmap_full_AA = []\n",
    "for val in range(len(mpp_vals_AA)):\n",
    "    mpp_state_backmap_full_AA.append(np.zeros(len(cc_full)))\n",
    "    uniq = np.unique(dtrajs_mpp_AA[val]).astype(int)\n",
    "    for state_mpp in range(len(uniq)):\n",
    "        for el in mpp_state_map_full_AA[val][state_mpp][map_ind]:\n",
    "            mpp_state_backmap_full_AA[val][el] = state_mpp\n",
    "            \n",
    "mpp_state_backmap_full_CG = []\n",
    "for val in range(len(mpp_vals_CG)):\n",
    "    mpp_state_backmap_full_CG.append(np.zeros(len(cc_full)))\n",
    "    uniq = np.unique(dtrajs_mpp_CG[val]).astype(int)\n",
    "    for state_mpp in range(len(uniq)):\n",
    "        for el in mpp_state_map_full_CG[val][state_mpp][map_ind]:\n",
    "            mpp_state_backmap_full_CG[val][el] = state_mpp"
   ]
  },
  {
   "cell_type": "code",
   "execution_count": 22,
   "metadata": {
    "collapsed": false
   },
   "outputs": [
    {
     "ename": "IndexError",
     "evalue": "list index out of range",
     "output_type": "error",
     "traceback": [
      "\u001b[1;31m---------------------------------------------------------------------------\u001b[0m",
      "\u001b[1;31mIndexError\u001b[0m                                Traceback (most recent call last)",
      "\u001b[1;32m<ipython-input-22-cde8852ef462>\u001b[0m in \u001b[0;36m<module>\u001b[1;34m()\u001b[0m\n\u001b[1;32m----> 1\u001b[1;33m \u001b[1;32mprint\u001b[0m \u001b[0mmpp_state_backmap_full_AA\u001b[0m\u001b[1;33m[\u001b[0m\u001b[1;36m3\u001b[0m\u001b[1;33m]\u001b[0m\u001b[1;33m\u001b[0m\u001b[0m\n\u001b[0m\u001b[0;32m      2\u001b[0m \u001b[1;32mprint\u001b[0m \u001b[1;34m''\u001b[0m\u001b[1;33m\u001b[0m\u001b[0m\n\u001b[0;32m      3\u001b[0m \u001b[1;32mprint\u001b[0m \u001b[0mmpp_state_backmap_full_CG\u001b[0m\u001b[1;33m[\u001b[0m\u001b[1;36m3\u001b[0m\u001b[1;33m]\u001b[0m\u001b[1;33m\u001b[0m\u001b[0m\n",
      "\u001b[1;31mIndexError\u001b[0m: list index out of range"
     ]
    }
   ],
   "source": [
    "print mpp_state_backmap_full_AA[3]\n",
    "print ''\n",
    "print mpp_state_backmap_full_CG[3]"
   ]
  },
  {
   "cell_type": "code",
   "execution_count": null,
   "metadata": {
    "collapsed": false
   },
   "outputs": [],
   "source": []
  },
  {
   "cell_type": "code",
   "execution_count": 23,
   "metadata": {
    "collapsed": false
   },
   "outputs": [],
   "source": [
    "its_AA = msm.timescales_msm(dtraj_full_AA.tolist(), lags=1200, nits=len(cc_full)-1)\n",
    "its_CG = msm.timescales_msm(dtraj_full_CG.tolist(), lags=20, nits=len(cc_full)-1)"
   ]
  },
  {
   "cell_type": "code",
   "execution_count": null,
   "metadata": {
    "collapsed": false
   },
   "outputs": [],
   "source": [
    "matplotlib.rcParams.update({'font.size': 14})\n",
    "mplt.plot_implied_timescales(its_AA, ylog=False, units='steps', linewidth=2)\n",
    "#xlim(0, 1100); ylim(0, 2500);"
   ]
  },
  {
   "cell_type": "code",
   "execution_count": null,
   "metadata": {
    "collapsed": false
   },
   "outputs": [],
   "source": [
    "matplotlib.rcParams.update({'font.size': 14})\n",
    "mplt.plot_implied_timescales(its_CG, ylog=False, units='steps', linewidth=2)\n",
    "#xlim(0, 1100); ylim(0, 2500);"
   ]
  },
  {
   "cell_type": "code",
   "execution_count": null,
   "metadata": {
    "collapsed": false
   },
   "outputs": [],
   "source": [
    "# make a model from the original data\n",
    "tau_AA = 400\n",
    "mle_AA = msm.bayesian_markov_model(dtraj_full_AA.tolist(),tau_AA,nsamples=100)\n",
    "\n",
    "tau_CG = 7\n",
    "mle_CG = msm.bayesian_markov_model(dtraj_full_CG.tolist(),tau_CG,nsamples=100)"
   ]
  },
  {
   "cell_type": "code",
   "execution_count": null,
   "metadata": {
    "collapsed": false
   },
   "outputs": [],
   "source": [
    "# get the stationary distributions\n",
    "mu_AA = mle_AA.eigenvectors_left(k=1)[0]\n",
    "mu_CG = mle_CG.eigenvectors_left(k=1)[0]"
   ]
  },
  {
   "cell_type": "code",
   "execution_count": null,
   "metadata": {
    "collapsed": false
   },
   "outputs": [],
   "source": [
    "memb = np.zeros(shape=(len(cc_full),len(cc_full)))\n",
    "for i in range(len(cc_full)):\n",
    "    memb[i,i] = 1."
   ]
  },
  {
   "cell_type": "code",
   "execution_count": null,
   "metadata": {
    "collapsed": false
   },
   "outputs": [],
   "source": [
    "cc_labels = []\n",
    "for i in range(len(cc_full)):\n",
    "    cc_labels.append([])\n",
    "    cc_labels[i] = ''\n",
    "    for j in range(len(cc_full[0])):\n",
    "        if (cc_full[i,j]==0):\n",
    "            cc_labels[i] += r'$\\bf \\alpha$'\n",
    "        else:\n",
    "            cc_labels[i] += r'$\\bf \\beta$'\n",
    "cc_labels = np.array(cc_labels)"
   ]
  },
  {
   "cell_type": "code",
   "execution_count": null,
   "metadata": {
    "collapsed": false
   },
   "outputs": [],
   "source": [
    "tpt_mle_AA = msm.tpt(mle_AA,[0],[31])\n",
    "Fp_AA = tpt_mle_AA.net_flux\n",
    "tpt_mle_CG = msm.tpt(mle_CG,[0],[31])\n",
    "Fp_CG = tpt_mle_CG.net_flux"
   ]
  },
  {
   "cell_type": "code",
   "execution_count": null,
   "metadata": {
    "collapsed": false
   },
   "outputs": [],
   "source": [
    "comm_AA = tpt_mle_AA.committor\n",
    "comm_CG = tpt_mle_CG.committor"
   ]
  },
  {
   "cell_type": "code",
   "execution_count": null,
   "metadata": {
    "collapsed": false
   },
   "outputs": [],
   "source": [
    "paths_AA = np.array(tpt_mle_AA.pathways())\n",
    "paths_CG = np.array(tpt_mle_CG.pathways())"
   ]
  },
  {
   "cell_type": "code",
   "execution_count": null,
   "metadata": {
    "collapsed": false
   },
   "outputs": [],
   "source": [
    "plt.plot(paths_AA[1,:15]/np.sum(paths_AA[1]),marker='x')\n",
    "plt.plot(paths_CG[1,:15]/np.sum(paths_CG[1]),marker='x')\n",
    "plt.show()\n",
    "plt.plot(np.cumsum(paths_AA[1,:15]/np.sum(paths_AA[1])),marker='x')\n",
    "plt.plot(np.cumsum(paths_CG[1,:15]/np.sum(paths_CG[1])),marker='x')"
   ]
  },
  {
   "cell_type": "code",
   "execution_count": null,
   "metadata": {
    "collapsed": false
   },
   "outputs": [],
   "source": [
    "n_paths = 6\n",
    "\n",
    "M_path_AA = np.zeros(shape=(len(cc_full),len(cc_full)))\n",
    "for ind,path in enumerate(paths_AA[0,:n_paths]):\n",
    "    for i in range(len(path)-1):\n",
    "        M_path_AA[path[i],path[i+1]] += paths_AA[1,ind]\n",
    "M_path_AA /= np.sum(paths_AA[1])\n",
    "\n",
    "M_path_CG = np.zeros(shape=(len(cc_full),len(cc_full)))\n",
    "for ind,path in enumerate(paths_CG[0,:n_paths]):\n",
    "    for i in range(len(path)-1):\n",
    "        M_path_CG[path[i],path[i+1]] += paths_CG[1,ind]\n",
    "M_path_CG /= np.sum(paths_CG[1])"
   ]
  },
  {
   "cell_type": "code",
   "execution_count": null,
   "metadata": {
    "collapsed": false
   },
   "outputs": [],
   "source": [
    "print tpt_mle_AA.total_flux\n",
    "print np.sum(paths_AA[1])\n",
    "\n",
    "print tpt_mle_CG.total_flux\n",
    "print np.sum(paths_CG[1])"
   ]
  },
  {
   "cell_type": "code",
   "execution_count": null,
   "metadata": {
    "collapsed": false
   },
   "outputs": [],
   "source": [
    "from matplotlib.pyplot import *\n",
    "# define the colormap\n",
    "mycmap = plt.cm.seismic\n",
    "# extract all colors from the .jet map\n",
    "mycmaplist = [mycmap(i) for i in range(mycmap.N)]\n",
    "Ngrids = 51\n",
    "# create the new map\n",
    "mycmap = mycmap.from_list('Custom cmap', mycmaplist, mycmap.N)\n",
    "# define the bins and normalize\n",
    "bounds = np.linspace(0.,1.,Ngrids)\n",
    "norm = matplotlib.colors.BoundaryNorm(bounds, mycmap.N)"
   ]
  },
  {
   "cell_type": "code",
   "execution_count": null,
   "metadata": {
    "collapsed": false
   },
   "outputs": [],
   "source": [
    "comm_colors_full_AA = []\n",
    "for state in range(len(comm_AA)):\n",
    "    comm_colors_full_AA.append(mycmap(comm_AA[state]))\n",
    "\n",
    "comm_colors_full_CG = []\n",
    "for state in range(len(comm_CG)):\n",
    "    comm_colors_full_CG.append(mycmap(comm_CG[state]))"
   ]
  },
  {
   "cell_type": "code",
   "execution_count": null,
   "metadata": {
    "collapsed": false
   },
   "outputs": [],
   "source": [
    "grids = np.linspace(-np.pi,np.pi,33)\n",
    "x = sin(grids[1:])\n",
    "y = cos(grids[1:])\n",
    "circ = np.array(zip(x,y))\n",
    "mplt.plot_markov_model(mle_AA.transition_matrix, pos=circ, state_labels=cc_labels, state_colors=comm_colors_full_AA, minflux=8e-4, arrow_labels=None, arrow_label_format='None')\n",
    "gca().set_frame_on(False)"
   ]
  },
  {
   "cell_type": "code",
   "execution_count": null,
   "metadata": {
    "collapsed": false
   },
   "outputs": [],
   "source": [
    "grids = np.linspace(-np.pi,np.pi,33)\n",
    "x = sin(grids[1:])\n",
    "y = cos(grids[1:])\n",
    "circ = np.array(zip(x,y))\n",
    "mplt.plot_markov_model(mle_CG.transition_matrix, pos=circ, state_labels=cc_labels, state_colors=comm_colors_full_CG, minflux=8e-4, arrow_labels=None, arrow_label_format='None')\n",
    "gca().set_frame_on(False)"
   ]
  },
  {
   "cell_type": "code",
   "execution_count": null,
   "metadata": {
    "collapsed": false
   },
   "outputs": [],
   "source": [
    "grids = np.linspace(-np.pi,np.pi,33)\n",
    "x = sin(grids[1:])\n",
    "y = cos(grids[1:])\n",
    "circ = np.array(zip(x,y))\n",
    "#mplt.plot_flux(tpt_mle_AA, pos=circ, state_labels=cc_labels, state_colors=comm_colors_full_CG, minflux=8e-5, arrow_labels=None, arrow_label_format='None', attribute_to_plot='net_flux')\n",
    "#mplt.plot_network(mle_AA.transition_matrix, pos=circ, state_labels=cc_labels, state_colors=comm_colors_full_CG, minflux=8e-5, arrow_labels=None, arrow_label_format='None')\n",
    "# mplt.plot_network( mle_AA.transition_matrix, pos=circ, state_sizes=mu_AA,\n",
    "#                 state_scale=1.0, state_colors=comm_colors_full_CG, minflux=8e-4,\n",
    "#                 arrow_scale=1.0, arrow_curvature=1.0, arrow_labels=None,\n",
    "#                 arrow_label_format='%2.e', max_width=12, max_height=12,\n",
    "#                 figpadding=0.2, attribute_to_plot='net_flux',\n",
    "#                 show_frame=False, xticks=False, yticks=False,\n",
    "#                 )\n",
    "# gca().set_frame_on(False)"
   ]
  },
  {
   "cell_type": "code",
   "execution_count": null,
   "metadata": {
    "collapsed": false
   },
   "outputs": [],
   "source": [
    "import colorsys\n",
    "val = 2\n",
    "n_states = len(mpp_state_map_full_AA[val])\n",
    "HSV_tuples = [(x*1.0/n_states, 0.5, 0.5) for x in range(n_states)]\n",
    "RGB_tuples = map(lambda x: colorsys.hsv_to_rgb(*x), HSV_tuples)\n",
    "state_colors_AA = np.array(RGB_tuples)[mpp_state_backmap_full_AA[val].astype(int)]\n",
    "\n",
    "n_states_CG = len(mpp_state_map_full_CG[val])\n",
    "HSV_tuples = [(x*1.0/n_states, 0.5, 0.5) for x in range(n_states_CG)]\n",
    "RGB_tuples = map(lambda x: colorsys.hsv_to_rgb(*x), HSV_tuples)\n",
    "state_colors_CG = np.array(RGB_tuples)[mpp_state_backmap_full_CG[val].astype(int)]"
   ]
  },
  {
   "cell_type": "code",
   "execution_count": null,
   "metadata": {
    "collapsed": false
   },
   "outputs": [],
   "source": [
    "# Let's first calculate the mapping of CG states\n",
    "# for now, just try linking the msstates via the microstates with highest prob\n"
   ]
  },
  {
   "cell_type": "code",
   "execution_count": null,
   "metadata": {
    "collapsed": false
   },
   "outputs": [],
   "source": [
    "msstate_map_poss = []\n",
    "for msstate_ind in range(n_states):\n",
    "    msstate = np.where(mpp_state_backmap_full_AA[val]==msstate_ind)[0]\n",
    "    msstate_map_poss.append([])\n",
    "    for el in msstate:\n",
    "        msstate_map_poss[msstate_ind].append(mpp_state_backmap_full_CG[val][el].astype(int))\n",
    "msstate_map_poss"
   ]
  },
  {
   "cell_type": "code",
   "execution_count": null,
   "metadata": {
    "collapsed": false
   },
   "outputs": [],
   "source": [
    "np.where(mpp_state_backmap_full_AA[val]==4)[0]"
   ]
  },
  {
   "cell_type": "code",
   "execution_count": null,
   "metadata": {
    "collapsed": false
   },
   "outputs": [],
   "source": [
    "# tpt_mle_AA = msm.tpt(mle_AA,[0],[31])\n",
    "# Fp_AA = tpt_mle_AA.net_flux\n",
    "# tpt_mle_CG = msm.tpt(mle_CG,[0],[31])\n",
    "# Fp_CG = tpt_mle_CG.net_flux"
   ]
  },
  {
   "cell_type": "code",
   "execution_count": null,
   "metadata": {
    "collapsed": false
   },
   "outputs": [],
   "source": [
    "msstateI = np.where( mpp_state_backmap_full_AA[2] == 0 )[0]\n",
    "print msstateI\n",
    "msstateJ = np.where( mpp_state_backmap_full_AA[2] == 1 )[0]\n",
    "print msstateJ"
   ]
  },
  {
   "cell_type": "code",
   "execution_count": null,
   "metadata": {
    "collapsed": false
   },
   "outputs": [],
   "source": [
    "tpt_mle_AA = msm.tpt(mle_AA,msstateI,msstateJ)\n",
    "Fp_AA = tpt_mle_AA.net_flux\n",
    "np.sum(Fp_AA[:,2])"
   ]
  },
  {
   "cell_type": "code",
   "execution_count": null,
   "metadata": {
    "collapsed": false
   },
   "outputs": [],
   "source": [
    "#mplt.plot_flux(tpt_mle_AA, pos=pos_full_AA, state_labels=cc_labels, state_colors=comm_colors_full_CG, minflux=8e-5, arrow_labels=None, arrow_label_format='None', attribute_to_plot='net_flux')"
   ]
  },
  {
   "cell_type": "code",
   "execution_count": null,
   "metadata": {
    "collapsed": false
   },
   "outputs": [],
   "source": [
    "# let's use the AA mapping to calculate some basic properties between the clusters\n",
    "Fdir_AA = np.zeros(shape=(n_states,n_states))\n",
    "Fdir_CG = np.zeros(shape=(n_states,n_states))\n",
    "for stateI in range(n_states):\n",
    "    msstateI = np.where( mpp_state_backmap_full_AA[val] == stateI )[0]\n",
    "    for stateJ in range(n_states):\n",
    "        if ( stateI == stateJ ):\n",
    "            continue\n",
    "        msstateJ = np.where( mpp_state_backmap_full_AA[val] == stateJ )[0]\n",
    "        tpt_mle_AA = msm.tpt(mle_AA,msstateI,msstateJ)\n",
    "        tpt_mle_CG = msm.tpt(mle_CG,msstateI,msstateJ)\n",
    "        Fp_AA = tpt_mle_AA.net_flux\n",
    "        Fp_CG = tpt_mle_CG.net_flux\n",
    "        for i in msstateI:\n",
    "            for j in msstateJ:\n",
    "                Fdir_AA[stateI,stateJ] += Fp_AA[i,j]\n",
    "                Fdir_CG[stateI,stateJ] += Fp_CG[i,j]\n",
    "\n",
    "mu_AA_mapped = np.zeros(n_states)\n",
    "mu_CG_mapped = np.zeros(n_states)\n",
    "for stateI in range(n_states):\n",
    "    msstateI = np.where( mpp_state_backmap_full_AA[val] == stateI )[0]\n",
    "    for i in msstateI:\n",
    "        mu_AA_mapped[stateI] += mu_AA[i]\n",
    "        mu_CG_mapped[stateI] += mu_CG[i]"
   ]
  },
  {
   "cell_type": "code",
   "execution_count": null,
   "metadata": {
    "collapsed": false
   },
   "outputs": [],
   "source": [
    "plt.pcolor(Fdir_AA,cmap='Blues',vmin=0,vmax=0.045)\n",
    "plt.colorbar()\n",
    "plt.show()\n",
    "plt.pcolor(Fdir_CG,cmap='Blues',vmin=0,vmax=0.045)\n",
    "plt.colorbar()\n",
    "plt.show()\n",
    "plt.pcolor(np.abs(Fdir_AA-Fdir_CG),cmap='Blues',vmin=0,vmax=0.045)\n",
    "plt.colorbar()\n",
    "plt.show()"
   ]
  },
  {
   "cell_type": "code",
   "execution_count": null,
   "metadata": {
    "collapsed": false
   },
   "outputs": [],
   "source": [
    "n_states = len(np.unique(mpp_state_backmap_full_AA[val]))\n",
    "# disperse the hubs around the unit circle\n",
    "grids = np.linspace(-np.pi+np.pi/2.,np.pi+np.pi/2.,n_states+1)\n",
    "x = 2.*sin(grids[1:])\n",
    "y = 2.*cos(grids[1:])\n",
    "hubs = np.array(zip(x,y))\n",
    "# adjust by hand\n",
    "hubs[8][0] = hubs[8][0]+4.\n",
    "hubs[8][1] = hubs[8][1]+3.\n",
    "\n",
    "# need diff CG hubs\n",
    "grids = np.linspace(-np.pi+np.pi/2.,np.pi+np.pi/2.,n_states_CG+1)\n",
    "x = 2.*sin(grids[1:])\n",
    "y = 2.*cos(grids[1:])\n",
    "hubs_CG = np.array(zip(x,y))\n",
    "\n",
    "# get the number of unique states per CG state\n",
    "y = np.bincount(mpp_state_backmap_full_CG[val].astype(int)) #state_map)\n",
    "ii = np.nonzero(y)[0]\n",
    "#dups = zip(ii,y[ii])\n",
    "dups = np.vstack((ii,y[ii])).T\n",
    "print dups[:,1]\n",
    "\n",
    "# now, disperse the belonging states around each hub\n",
    "#memb_pos_AA = []\n",
    "memb_pos_AA = [[] for x in range(n_states)]\n",
    "hub_reorder = [0,1,5,7,3,2,4,6,8] #[0,1,3,4,2,8,7,5,6]\n",
    "\n",
    "for hub in range(n_states):\n",
    "    hubr = hub_reorder[hub]\n",
    "    n_members = len(mpp_state_map_AA[val][hub][1])\n",
    "    print n_members\n",
    "    grids = np.linspace(-np.pi,np.pi,n_members+1)\n",
    "    x = hubs[hubr][0] + 3.5*sin(grids[1:])/n_states\n",
    "    y = hubs[hubr][1] + 3.5*cos(grids[1:])/n_states\n",
    "    memb_pos_AA[hub] = np.array(zip(x,y))\n",
    "print ''\n",
    "memb_pos_CG = []\n",
    "for hub in range(n_states_CG):\n",
    "    n_members = dups[hub,1]*len(mpp_state_map_CG[val][hub][1])\n",
    "    print n_members\n",
    "    grids = np.linspace(-np.pi,np.pi,n_members+1)\n",
    "    x = hubs_CG[hub][0] + 3.5*sin(grids[1:])/n_states\n",
    "    y = hubs_CG[hub][1] + 3.5*cos(grids[1:])/n_states\n",
    "    memb_pos_CG.append(np.array(zip(x,y)))"
   ]
  },
  {
   "cell_type": "code",
   "execution_count": null,
   "metadata": {
    "collapsed": false
   },
   "outputs": [],
   "source": [
    "hub_ctr = np.zeros(n_states).astype(int)\n",
    "x = []\n",
    "y = []\n",
    "for state in range(len(cc_full)):\n",
    "    hub = mpp_state_backmap_full_AA[val].astype(int)[state]\n",
    "    x.append(memb_pos_AA[hub][hub_ctr[hub]].tolist()[0])\n",
    "    y.append(memb_pos_AA[hub][hub_ctr[hub]].tolist()[1])\n",
    "    hub_ctr[hub] += 1\n",
    "pos_full_AA = np.array(zip(x,y))\n",
    "\n",
    "hub_ctr = np.zeros(n_states_CG).astype(int)\n",
    "x = []\n",
    "y = []\n",
    "for state in range(len(cc_full)):\n",
    "    hub = mpp_state_backmap_full_CG[val].astype(int)[state]\n",
    "    x.append(memb_pos_CG[hub][hub_ctr[hub]].tolist()[0])\n",
    "    y.append(memb_pos_CG[hub][hub_ctr[hub]].tolist()[1])\n",
    "    hub_ctr[hub] += 1\n",
    "pos_full_CG = np.array(zip(x,y))"
   ]
  },
  {
   "cell_type": "code",
   "execution_count": null,
   "metadata": {
    "collapsed": false
   },
   "outputs": [],
   "source": [
    "hub"
   ]
  },
  {
   "cell_type": "code",
   "execution_count": null,
   "metadata": {
    "collapsed": false
   },
   "outputs": [],
   "source": [
    "# options\n",
    "minflux=8e-4 \n",
    "arrow_labels=None \n",
    "max_width=20 \n",
    "max_height=20 \n",
    "figpadding=0.1\n",
    "state_scale = 5.0\n",
    "arrow_scale = 1.0\n",
    "fontsize=24\n",
    "fontweight='bold'\n",
    "#\n",
    "fig,pos = mplt.plot_markov_model(mle_AA.transition_matrix, pos=pos_full_AA, state_labels=cc_labels, state_colors=state_colors_AA, minflux=minflux, arrow_labels=arrow_labels, max_width=max_width, max_height=max_height, figpadding=figpadding, state_scale=state_scale, arrow_scale=arrow_scale, size=fontsize, weight=fontweight)\n",
    "gca().set_frame_on(False)\n",
    "plt.tight_layout()\n",
    "plt.savefig('AA_9state_network.svg', format='svg', dpi=1200)\n",
    "plt.savefig('AA_9state_network.eps', format='eps', dpi=1200)\n",
    "plt.show()\n",
    "fig = mplt.plot_markov_model(mle_CG.transition_matrix, pos=pos_full_AA, state_labels=cc_labels, state_colors=state_colors_CG, minflux=minflux, arrow_labels=arrow_labels, max_width=max_width, max_height=max_height, figpadding=figpadding, state_scale=state_scale, arrow_scale=arrow_scale, size=fontsize, weight=fontweight)\n",
    "gca().set_frame_on(False)\n",
    "plt.tight_layout()\n",
    "plt.savefig('CG_9state_network.svg', format='svg', dpi=1200)\n",
    "plt.savefig('CG_9state_network.eps', format='eps', dpi=1200)\n",
    "plt.show()"
   ]
  },
  {
   "cell_type": "code",
   "execution_count": null,
   "metadata": {
    "collapsed": false
   },
   "outputs": [],
   "source": [
    "dtraj_AA_CGN = []\n",
    "dtraj_AA_CGN.append(mpp_state_backmap_full_AA[val].astype(int)[dtraj_full_AA[0]])\n",
    "\n",
    "dtraj_CG_CGN = []\n",
    "dtraj_CG_CGN.append(mpp_state_backmap_full_CG[val].astype(int)[dtraj_full_CG[0]])"
   ]
  },
  {
   "cell_type": "code",
   "execution_count": null,
   "metadata": {
    "collapsed": false
   },
   "outputs": [],
   "source": [
    "its_AA_CGN = msm.timescales_msm(dtraj_AA_CGN, lags=1200, nits=n_states-1)\n",
    "\n",
    "its_CG_CGN = msm.timescales_msm(dtraj_CG_CGN, lags=20, nits=n_states-1)"
   ]
  },
  {
   "cell_type": "code",
   "execution_count": null,
   "metadata": {
    "collapsed": false
   },
   "outputs": [],
   "source": [
    "matplotlib.rcParams.update({'font.size': 14})\n",
    "mplt.plot_implied_timescales(its_AA_CGN, ylog=False, units='steps', linewidth=2)\n",
    "#xlim(0, 1100); ylim(0, 2500);\n",
    "plt.show()\n",
    "matplotlib.rcParams.update({'font.size': 14})\n",
    "mplt.plot_implied_timescales(its_CG_CGN, ylog=False, units='steps', linewidth=2)\n",
    "#xlim(0, 1100); ylim(0, 2500);\n",
    "plt.show()"
   ]
  },
  {
   "cell_type": "code",
   "execution_count": null,
   "metadata": {
    "collapsed": false
   },
   "outputs": [],
   "source": [
    "# make a model from the original data\n",
    "mle_AA_CGN = msm.bayesian_markov_model(dtraj_AA_CGN,tau_AA,nsamples=100)\n",
    "evals_AA_CGN = mle_AA_CGN.eigenvalues(n_states)\n",
    "evecs_AA_CGN = mle_AA_CGN.eigenvectors_left(n_states)\n",
    "\n",
    "# make a model from the original data\n",
    "mle_CG_CGN = msm.bayesian_markov_model(dtraj_CG_CGN,tau_CG,nsamples=100)\n",
    "evals_CG_CGN = mle_CG_CGN.eigenvalues(n_states)\n",
    "evecs_CG_CGN = mle_CG_CGN.eigenvectors_left(n_states)"
   ]
  },
  {
   "cell_type": "code",
   "execution_count": null,
   "metadata": {
    "collapsed": false
   },
   "outputs": [],
   "source": [
    "memb_AA = np.zeros(shape=(len(cc_full),n_states))\n",
    "for state in range(len(cc_full)):\n",
    "    memb_AA[state][mpp_state_backmap_full_AA[val].astype(int)[state]] = 1\n",
    "#ck_AA_CGN = mle_AA_CGN.cktest(n_states, memberships=memb_AA, mlags=11, err_est=False)\n",
    "\n",
    "memb_CG = np.zeros(shape=(len(cc_full),n_states_CG))\n",
    "for state in range(len(cc_full)):\n",
    "    memb_CG[state][mpp_state_backmap_full_CG[val].astype(int)[state]] = 1\n",
    "#ck_CG_CGN = mle_CG_CGN.cktest(n_states, memberships=memb_CG, mlags=11, err_est=False)"
   ]
  },
  {
   "cell_type": "code",
   "execution_count": null,
   "metadata": {
    "collapsed": false
   },
   "outputs": [],
   "source": [
    "#mplt.plot_cktest(ck, diag=True, figsize=(15,15), layout=(6,4), padding_top=0.1, y01=False, padding_between=0.5, dt=1, units='steps')"
   ]
  },
  {
   "cell_type": "code",
   "execution_count": null,
   "metadata": {
    "collapsed": false
   },
   "outputs": [],
   "source": [
    "#plt.plot(evals_CG,marker='x')"
   ]
  },
  {
   "cell_type": "code",
   "execution_count": null,
   "metadata": {
    "collapsed": false
   },
   "outputs": [],
   "source": [
    "#plt.plot(evecs_CG[0],marker='x')"
   ]
  },
  {
   "cell_type": "code",
   "execution_count": null,
   "metadata": {
    "collapsed": false
   },
   "outputs": [],
   "source": [
    "#plt.plot(evecs_CG[1],marker='x')\n",
    "#print mpp_state_map_full_AA[2]\n",
    "print mpp_state_map_full_CG[2][0]"
   ]
  },
  {
   "cell_type": "code",
   "execution_count": null,
   "metadata": {
    "collapsed": false
   },
   "outputs": [],
   "source": [
    "# TPT on the CGN\n",
    "tpt_mle_AA_CGN = msm.tpt(mle_AA_CGN,[0],[2])\n",
    "Fp_AA_CGN = tpt_mle_AA_CGN.net_flux\n",
    "tpt_mle_CG_CGN = msm.tpt(mle_CG_CGN,[1],[0])\n",
    "Fp_CG_CGN = tpt_mle_CG_CGN.net_flux"
   ]
  },
  {
   "cell_type": "code",
   "execution_count": null,
   "metadata": {
    "collapsed": false
   },
   "outputs": [],
   "source": [
    "comm_AA_CGN = tpt_mle_AA_CGN.committor\n",
    "comm_CG_CGN = tpt_mle_CG_CGN.committor"
   ]
  },
  {
   "cell_type": "code",
   "execution_count": null,
   "metadata": {
    "collapsed": false
   },
   "outputs": [],
   "source": [
    "paths_AA_CGN = np.array(tpt_mle_AA_CGN.pathways())\n",
    "paths_CG_CGN = np.array(tpt_mle_CG_CGN.pathways())"
   ]
  },
  {
   "cell_type": "code",
   "execution_count": null,
   "metadata": {
    "collapsed": false
   },
   "outputs": [],
   "source": [
    "plt.plot(paths_AA_CGN[1,:]/np.sum(paths_AA_CGN[1]),marker='x')\n",
    "plt.plot(paths_CG_CGN[1,:]/np.sum(paths_CG_CGN[1]),marker='x')\n",
    "plt.show()\n",
    "plt.plot(np.cumsum(paths_AA_CGN[1,:]/np.sum(paths_AA_CGN[1])),marker='x')\n",
    "plt.plot(np.cumsum(paths_CG_CGN[1,:]/np.sum(paths_CG_CGN[1])),marker='x')"
   ]
  },
  {
   "cell_type": "code",
   "execution_count": null,
   "metadata": {
    "collapsed": false
   },
   "outputs": [],
   "source": []
  },
  {
   "cell_type": "code",
   "execution_count": null,
   "metadata": {
    "collapsed": false
   },
   "outputs": [],
   "source": [
    "# options\n",
    "minflux=8e-4 \n",
    "arrow_labels=None \n",
    "max_width=15\n",
    "max_height=20 \n",
    "figpadding=0.1\n",
    "state_scale = 5.0\n",
    "arrow_scale = 1.0\n",
    "fontsize=24\n",
    "fontweight='bold'\n",
    "#\n",
    "mplt.plot_markov_model(mle_AA_CGN.transition_matrix, pos=hubs, state_labels=np.arange(len(hubs)).astype('S1'), state_colors=state_colors_AA, minflux=minflux, arrow_labels=arrow_labels, max_width=max_width, max_height=max_height, figpadding=figpadding, state_scale=state_scale, arrow_scale=arrow_scale, size=fontsize, weight=fontweight)\n",
    "gca().set_frame_on(False)\n",
    "plt.show()"
   ]
  },
  {
   "cell_type": "code",
   "execution_count": null,
   "metadata": {
    "collapsed": false
   },
   "outputs": [],
   "source": [
    "from networks_JFR import *"
   ]
  },
  {
   "cell_type": "code",
   "execution_count": null,
   "metadata": {
    "collapsed": false
   },
   "outputs": [],
   "source": [
    "rel_err_F = np.ma.divide((Fdir_CG-Fdir_AA),Fdir_AA)\n",
    "np.ma.set_fill_value(rel_err_F,0)\n",
    "rel_err_F = rel_err_F.filled()\n",
    "\n",
    "abs_err_F = Fdir_CG-Fdir_AA\n",
    "\n",
    "np.min(Fdir_AA[Fdir_AA != 0])\n"
   ]
  },
  {
   "cell_type": "code",
   "execution_count": null,
   "metadata": {
    "collapsed": false
   },
   "outputs": [],
   "source": [
    "from matplotlib import pyplot as plt\n",
    "from matplotlib.pyplot import *\n",
    "\n",
    "A = Fdir_AA\n",
    "# define the colormap\n",
    "if ( np.all(A >= 0) ):\n",
    "    mycmap = plt.cm.bone_r\n",
    "    mycmap_max = np.max(np.abs(A))\n",
    "    mycmap_min = np.min(A[A != 0])\n",
    "else:\n",
    "    mycmap = plt.cm.RdBu\n",
    "    mycmap_max = np.max(A)\n",
    "    mycmap_min = np.min(A)\n",
    "# extract all colors from the .jet map\n",
    "mycmaplist = [mycmap(i) for i in range(mycmap.N)]\n",
    "# create the new map\n",
    "mycmap = mycmap.from_list('Custom cmap', mycmaplist, mycmap.N)\n",
    "# define the bins and normalize\n",
    "bounds = np.linspace(mycmap_min,mycmap_max,256)\n",
    "norm = matplotlib.colors.BoundaryNorm(bounds, mycmap.N)\n",
    "mycmaplist = [mycmap(i) for i in range(mycmap.N)]\n",
    "dx = bounds[1] - bounds[0]\n",
    "\n",
    "val = np.max(A)\n",
    "grid = int( (val - mycmap_min)/dx + 0.5 )\n",
    "color = mycmaplist[grid]\n",
    "plt.plot(np.ones(10),color=color,linewidth=5)\n",
    "\n",
    "mycmap.N"
   ]
  },
  {
   "cell_type": "code",
   "execution_count": null,
   "metadata": {
    "collapsed": false
   },
   "outputs": [],
   "source": [
    "# options\n",
    "minflux=8e-4 \n",
    "arrow_labels=None \n",
    "max_width=15\n",
    "max_height=20\n",
    "figpadding=0.2\n",
    "state_scale = 3.0\n",
    "arrow_scale = 1.0\n",
    "fontsize=24\n",
    "fontweight='bold'\n",
    "#\n",
    "plot_flux(Fdir_AA, pos=hubs, flux_scale=1.0/np.max(Fdir_AA), state_sizes=mu_AA_mapped, state_labels=np.arange(len(hubs)).astype('S1'), state_colors=state_colors_AA, minflux=minflux, arrow_labels=arrow_labels, max_width=max_width, max_height=max_height, figpadding=figpadding, state_scale=state_scale, arrow_scale=arrow_scale, size=fontsize, weight=fontweight, show_committor=False)\n",
    "gca().set_frame_on(False)\n",
    "plt.show()\n",
    "plot_flux(Fdir_CG, pos=hubs, flux_scale=1.0/np.max(Fdir_AA), state_sizes=mu_AA_mapped, state_labels=np.arange(len(hubs)).astype('S1'), state_colors=state_colors_CG, minflux=minflux, arrow_labels=arrow_labels, max_width=max_width, max_height=max_height, figpadding=figpadding, state_scale=state_scale, arrow_scale=arrow_scale, size=fontsize, weight=fontweight, show_committor=False)\n",
    "gca().set_frame_on(False)\n",
    "plt.show()\n",
    "plot_flux(rel_err_F, flux_scale=1.0, pos=hubs, state_sizes=np.abs(mu_AA_mapped-mu_CG_mapped)/mu_AA_mapped, state_labels=np.arange(len(hubs)).astype('S1'), state_colors=state_colors_AA, minflux=minflux, arrow_labels=arrow_labels, max_width=max_width, max_height=max_height, figpadding=figpadding, state_scale=state_scale, arrow_scale=arrow_scale, size=fontsize, weight=fontweight, show_committor=False)\n",
    "gca().set_frame_on(False)\n",
    "plt.show()\n",
    "\n",
    "state_max_ref = 0.1\n",
    "state_scale = 3.0*np.max(np.abs(mu_AA_mapped-mu_CG_mapped))/state_max_ref\n",
    "arrow_max_ref = 0.02\n",
    "arrow_scale = 1.0*np.max(np.abs(abs_err_F))/arrow_max_ref\n",
    "\n",
    "plot_flux(abs_err_F, flux_scale=1.0, pos=hubs, state_sizes=np.abs(mu_AA_mapped-mu_CG_mapped), state_labels=np.arange(len(hubs)).astype('S1'), state_colors=state_colors_AA, minflux=minflux, arrow_labels=arrow_labels, max_width=max_width, max_height=max_height, figpadding=figpadding, state_scale=state_scale, arrow_scale=arrow_scale, size=fontsize, weight=fontweight, show_committor=False)\n",
    "gca().set_frame_on(False)\n",
    "plt.tight_layout()\n",
    "plt.savefig('CG_9state_network_CGN_dPhi-dir.svg', format='svg', dpi=1200)\n",
    "plt.savefig('CG_9state_network_CGN_dPhi-dir.eps', format='eps', dpi=1200)\n",
    "plt.show()"
   ]
  },
  {
   "cell_type": "code",
   "execution_count": null,
   "metadata": {
    "collapsed": false
   },
   "outputs": [],
   "source": [
    "DF = abs_err_F\n",
    "vmax = arrow_max_ref\n",
    "vmin = -arrow_max_ref\n",
    "print vmin\n",
    "ax = plt.subplots(figsize=(10, 10))\n",
    "plt.pcolor(DF,cmap='bwr',vmin=vmin,vmax=vmax)\n",
    "cbar = plt.colorbar(aspect=10)\n",
    "cbar.set_ticks([-arrow_max_ref,0,arrow_max_ref])\n",
    "cbar.ax.set_yticklabels([r'-0.02', r'0', r'0.02'],fontweight='bold')\n",
    "cbar.ax.tick_params(labelsize='22',width=3.0,length=55)\n",
    "cbar.set_label(r'$\\delta \\Phi^{\\rm dir}$', rotation=270, fontsize='50', labelpad=25)\n",
    "cbar.ax.get_children()[2].set_linewidth(3)\n",
    "cbar.ax.get_children()[3].set_linewidth(3)\n",
    "cbar.outline.set_linewidth(3)\n",
    "plt.savefig('CG_9state_network_CGN_dPhi-dir_cbar.svg', format='svg', dpi=1200)\n",
    "plt.savefig('CG_9state_network_CGN_dPhi-dir_cbar.eps', format='eps', dpi=1200)\n",
    "plt.show()"
   ]
  },
  {
   "cell_type": "code",
   "execution_count": null,
   "metadata": {
    "collapsed": false
   },
   "outputs": [],
   "source": [
    "# options\n",
    "minflux=5e-2 \n",
    "arrow_labels=None \n",
    "max_width=15\n",
    "max_height=20\n",
    "figpadding=0.2\n",
    "state_max_ref = 0.1\n",
    "state_scale = 5.0*np.max(np.abs(mu_CG - mu_AA))/state_max_ref\n",
    "arrow_max_ref = 0.15 # 0.325\n",
    "arrow_scale = 1.0*np.max(np.abs(mle_CG.transition_matrix-mle_AA.transition_matrix))/arrow_max_ref\n",
    "fontsize=24\n",
    "fontweight='bold'\n",
    "#\n",
    "fig = plot_flux(mle_CG.transition_matrix-mle_AA.transition_matrix, flux_scale=1.0, state_sizes=np.abs(mu_CG - mu_AA), pos=pos_full_AA, state_labels=cc_labels, state_colors=state_colors_CG, minflux=minflux, arrow_labels=arrow_labels, max_width=max_width, max_height=max_height, figpadding=figpadding, state_scale=state_scale, arrow_scale=arrow_scale, size=fontsize, weight=fontweight, show_committor=False)\n",
    "gca().set_frame_on(False)\n",
    "plt.tight_layout()\n",
    "plt.savefig('CG_9state_network_dT.svg', format='svg', dpi=1200)\n",
    "plt.savefig('CG_9state_network_dT.eps', format='eps', dpi=1200)\n",
    "plt.show()"
   ]
  },
  {
   "cell_type": "code",
   "execution_count": null,
   "metadata": {
    "collapsed": false
   },
   "outputs": [],
   "source": [
    "DT = mle_CG.transition_matrix-mle_AA.transition_matrix\n",
    "vmax = arrow_max_ref\n",
    "vmin = -arrow_max_ref\n",
    "print vmin\n",
    "ax = plt.subplots(figsize=(10, 10))\n",
    "plt.pcolor(DT,cmap='bwr',vmin=vmin,vmax=vmax)\n",
    "cbar = plt.colorbar(aspect=10)\n",
    "cbar.set_ticks([-1.5e-1,0,1.5e-1])\n",
    "cbar.ax.set_yticklabels([r'-0.15', r'0', r'0.15'],fontweight='bold')\n",
    "cbar.ax.tick_params(labelsize='22',width=3.0,length=55)\n",
    "cbar.set_label(r'$\\delta T_{ij}$', rotation=270, fontsize='50', labelpad=25)\n",
    "cbar.ax.get_children()[2].set_linewidth(3)\n",
    "cbar.ax.get_children()[3].set_linewidth(3)\n",
    "cbar.outline.set_linewidth(3)\n",
    "plt.savefig('CG_9state_network_dT_cbar.svg', format='svg', dpi=1200)\n",
    "plt.savefig('CG_9state_network_dT_cbar.eps', format='eps', dpi=1200)\n",
    "plt.show()"
   ]
  },
  {
   "cell_type": "code",
   "execution_count": null,
   "metadata": {
    "collapsed": false
   },
   "outputs": [],
   "source": [
    "# options\n",
    "minflux=8e-4 \n",
    "arrow_labels=None \n",
    "max_width=15\n",
    "max_height=20\n",
    "figpadding=0.2\n",
    "state_scale = 5.0\n",
    "arrow_scale = 1.0\n",
    "fontsize=24\n",
    "fontweight='bold'\n",
    "#\n",
    "fig = plot_flux(mle_AA.transition_matrix, flux_scale=1.0, state_sizes=mu_AA, pos=pos_full_AA, state_labels=cc_labels, state_colors=state_colors_AA, minflux=minflux, arrow_labels=arrow_labels, max_width=max_width, max_height=max_height, figpadding=figpadding, state_scale=state_scale, arrow_scale=arrow_scale, size=fontsize, weight=fontweight, show_committor=False)\n",
    "gca().set_frame_on(False)\n",
    "plt.show()"
   ]
  },
  {
   "cell_type": "code",
   "execution_count": null,
   "metadata": {
    "collapsed": false
   },
   "outputs": [],
   "source": [
    "# options\n",
    "minflux=1e-9 \n",
    "arrow_labels=None \n",
    "max_width=15\n",
    "max_height=20\n",
    "figpadding=0.2\n",
    "state_scale = 5.0\n",
    "arrow_scale = 1.0\n",
    "fontsize=24\n",
    "fontweight='bold'\n",
    "#\n",
    "fig = plot_flux(M_path_AA, flux_scale=1.0, state_sizes=mu_AA, pos=pos_full_AA, state_labels=cc_labels, state_colors=state_colors_AA, minflux=minflux, arrow_labels=arrow_labels, max_width=max_width, max_height=max_height, figpadding=figpadding, state_scale=state_scale, arrow_scale=arrow_scale, size=fontsize, weight=fontweight, show_committor=False)\n",
    "gca().set_frame_on(False)\n",
    "plt.show()\n",
    "fig = plot_flux(M_path_CG, flux_scale=1.0, state_sizes=mu_CG, pos=pos_full_AA, state_labels=cc_labels, state_colors=state_colors_CG, minflux=minflux, arrow_labels=arrow_labels, max_width=max_width, max_height=max_height, figpadding=figpadding, state_scale=state_scale, arrow_scale=arrow_scale, size=fontsize, weight=fontweight, show_committor=False)\n",
    "gca().set_frame_on(False)\n",
    "plt.show()\n",
    "\n",
    "state_max_ref = 0.1\n",
    "state_scale = 5.0*np.max(np.abs(mu_CG - mu_AA))/state_max_ref\n",
    "arrow_max_ref = 0.03 # 0.055\n",
    "arrow_scale = 1.0*np.max(np.abs(M_path_CG-M_path_AA))/arrow_max_ref\n",
    "\n",
    "fig = plot_flux(M_path_CG-M_path_AA,flux_scale=1.0, state_sizes=np.abs(mu_CG-mu_AA), pos=pos_full_AA, state_labels=cc_labels, state_colors=state_colors_CG, minflux=minflux, arrow_labels=arrow_labels, max_width=max_width, max_height=max_height, figpadding=figpadding, state_scale=state_scale, arrow_scale=arrow_scale, size=fontsize, weight=fontweight, show_committor=False)\n",
    "gca().set_frame_on(False)\n",
    "plt.tight_layout()\n",
    "plt.savefig('CG_9state_network_dPhi-frac.svg', format='svg', dpi=1200)\n",
    "plt.savefig('CG_9state_network_dPhi-frac.eps', format='eps', dpi=1200)\n",
    "plt.show()"
   ]
  },
  {
   "cell_type": "code",
   "execution_count": null,
   "metadata": {
    "collapsed": false
   },
   "outputs": [],
   "source": [
    "dM = M_path_CG-M_path_AA\n",
    "vmax = arrow_max_ref\n",
    "vmin = -arrow_max_ref\n",
    "print vmin\n",
    "ax = plt.subplots(figsize=(10, 10))\n",
    "plt.pcolor(dM,cmap='bwr',vmin=vmin,vmax=vmax)\n",
    "cbar = plt.colorbar(aspect=10)\n",
    "cbar.set_ticks([-3e-2,0,3e-2])\n",
    "cbar.ax.set_yticklabels([r'-0.03', r'0', r'0.03'],fontweight='bold')\n",
    "cbar.ax.tick_params(labelsize='22',width=3.0,length=55)\n",
    "cbar.set_label(r'$\\delta (\\Phi^{\\rm path}/\\Phi^{\\rm tot})$', rotation=270, fontsize='50', labelpad=25)\n",
    "cbar.ax.get_children()[2].set_linewidth(3)\n",
    "cbar.ax.get_children()[3].set_linewidth(3)\n",
    "cbar.outline.set_linewidth(3)\n",
    "plt.savefig('CG_9state_network_dPhi-frac_cbar.svg', format='svg', dpi=1200)\n",
    "plt.savefig('CG_9state_network_dPhi-frac_cbar.eps', format='eps', dpi=1200)\n",
    "plt.show()"
   ]
  },
  {
   "cell_type": "code",
   "execution_count": null,
   "metadata": {
    "collapsed": false
   },
   "outputs": [],
   "source": [
    "# we also need the max difference in eqm prob\n",
    "print np.max(np.abs(mu_CG-mu_AA))\n",
    "print np.max(np.abs(mu_CG_mapped-mu_AA_mapped))"
   ]
  },
  {
   "cell_type": "code",
   "execution_count": null,
   "metadata": {
    "collapsed": false
   },
   "outputs": [],
   "source": [
    "print np.max(mu_AA)\n",
    "print np.min(mu_AA[mu_AA>0])"
   ]
  },
  {
   "cell_type": "code",
   "execution_count": null,
   "metadata": {
    "collapsed": false
   },
   "outputs": [],
   "source": []
  },
  {
   "cell_type": "code",
   "execution_count": null,
   "metadata": {
    "collapsed": false
   },
   "outputs": [],
   "source": []
  },
  {
   "cell_type": "code",
   "execution_count": null,
   "metadata": {
    "collapsed": false
   },
   "outputs": [],
   "source": []
  },
  {
   "cell_type": "code",
   "execution_count": null,
   "metadata": {
    "collapsed": false
   },
   "outputs": [],
   "source": [
    "plt.plot(evals_CG,marker='x')"
   ]
  },
  {
   "cell_type": "code",
   "execution_count": null,
   "metadata": {
    "collapsed": false
   },
   "outputs": [],
   "source": [
    "plt.plot(evecs_CG[0],marker='x')"
   ]
  },
  {
   "cell_type": "code",
   "execution_count": null,
   "metadata": {
    "collapsed": false
   },
   "outputs": [],
   "source": [
    "plt.plot(evecs_CG[1],marker='x')"
   ]
  },
  {
   "cell_type": "code",
   "execution_count": null,
   "metadata": {
    "collapsed": false
   },
   "outputs": [],
   "source": [
    "plt.plot(evecs_CG[2],marker='x')"
   ]
  },
  {
   "cell_type": "code",
   "execution_count": null,
   "metadata": {
    "collapsed": false
   },
   "outputs": [],
   "source": [
    "import colorsys\n",
    "val = 2\n",
    "n_states = len(mpp_state_map_full[val])\n",
    "HSV_tuples = [(x*1.0/n_states, 0.5, 0.5) for x in range(n_states)]\n",
    "RGB_tuples = map(lambda x: colorsys.hsv_to_rgb(*x), HSV_tuples)\n",
    "state_colors = np.array(RGB_tuples)[mpp_state_backmap_full[val].astype(int)]"
   ]
  },
  {
   "cell_type": "code",
   "execution_count": null,
   "metadata": {
    "collapsed": false
   },
   "outputs": [],
   "source": [
    "n_states = len(np.unique(mpp_state_backmap_full[val]))\n",
    "# disperse the hubs around the unit circle\n",
    "grids = np.linspace(-np.pi+np.pi/2.,np.pi+np.pi/2.,n_states+1)\n",
    "x = sin(grids[1:])\n",
    "y = cos(grids[1:])\n",
    "hubs = np.array(zip(x,y))\n",
    "# now, disperse the belonging states around each hub\n",
    "memb_pos = []\n",
    "for hub in range(n_states):\n",
    "    n_members = len(mpp_state_map[val][hub][1])\n",
    "    print n_members\n",
    "    grids = np.linspace(-np.pi,np.pi,n_members+1)\n",
    "    x = hubs[hub][0] + sin(grids[1:])/n_states\n",
    "    y = hubs[hub][1] + cos(grids[1:])/n_states\n",
    "    memb_pos.append(np.array(zip(x,y)))"
   ]
  },
  {
   "cell_type": "code",
   "execution_count": null,
   "metadata": {
    "collapsed": false
   },
   "outputs": [],
   "source": [
    "hub_ctr = np.zeros(n_states).astype(int)\n",
    "x = []\n",
    "y = []\n",
    "for state in range(len(cc_full)):\n",
    "    hub = mpp_state_backmap_full[val].astype(int)[state]\n",
    "    x.append(memb_pos[hub][hub_ctr[hub]].tolist()[0])\n",
    "    y.append(memb_pos[hub][hub_ctr[hub]].tolist()[1])\n",
    "    hub_ctr[hub] += 1\n",
    "pos_full = np.array(zip(x,y))"
   ]
  },
  {
   "cell_type": "code",
   "execution_count": null,
   "metadata": {
    "collapsed": false
   },
   "outputs": [],
   "source": [
    "mplt.plot_markov_model(mle.transition_matrix, pos=pos_full, state_labels=cc_labels, state_colors=state_colors, minflux=8e-4, arrow_labels=None, arrow_label_format='None',size=16)\n",
    "gca().set_frame_on(False)"
   ]
  },
  {
   "cell_type": "code",
   "execution_count": null,
   "metadata": {
    "collapsed": false
   },
   "outputs": [],
   "source": [
    "dtraj_CG = []\n",
    "dtraj_CG.append(mpp_state_backmap_full[val].astype(int)[dtraj_full[0]])"
   ]
  },
  {
   "cell_type": "code",
   "execution_count": null,
   "metadata": {
    "collapsed": false
   },
   "outputs": [],
   "source": [
    "its = msm.timescales_msm(dtraj_CG, lags=20, nits=n_states-1)"
   ]
  },
  {
   "cell_type": "code",
   "execution_count": null,
   "metadata": {
    "collapsed": false
   },
   "outputs": [],
   "source": [
    "matplotlib.rcParams.update({'font.size': 14})\n",
    "mplt.plot_implied_timescales(its, ylog=False, units='steps', linewidth=2)\n",
    "#xlim(0, 1100); ylim(0, 2500);"
   ]
  },
  {
   "cell_type": "code",
   "execution_count": null,
   "metadata": {
    "collapsed": false
   },
   "outputs": [],
   "source": [
    "# make a model from the original data\n",
    "tau_CG = 3\n",
    "mle_CG = msm.bayesian_markov_model(dtraj_CG,tau_CG,nsamples=100)\n",
    "evals_CG = mle_CG.eigenvalues(n_states)\n",
    "evecs_CG = mle_CG.eigenvectors_left(n_states)"
   ]
  },
  {
   "cell_type": "code",
   "execution_count": null,
   "metadata": {
    "collapsed": false
   },
   "outputs": [],
   "source": [
    "memb = np.zeros(shape=(len(cc_full),n_states))\n",
    "for state in range(len(cc_full)):\n",
    "    memb[state][mpp_state_backmap_full[val].astype(int)[state]] = 1\n",
    "ck = mle.cktest(n_states, memberships=memb, mlags=11, err_est=False)"
   ]
  },
  {
   "cell_type": "code",
   "execution_count": null,
   "metadata": {
    "collapsed": false
   },
   "outputs": [],
   "source": [
    "mplt.plot_cktest(ck, diag=True, figsize=(15,10), layout=(3,3), padding_top=0.1, y01=False, padding_between=0.5, dt=1, units='steps')"
   ]
  },
  {
   "cell_type": "code",
   "execution_count": null,
   "metadata": {
    "collapsed": false
   },
   "outputs": [],
   "source": [
    "plt.plot(evals_CG,marker='x')"
   ]
  },
  {
   "cell_type": "code",
   "execution_count": null,
   "metadata": {
    "collapsed": false
   },
   "outputs": [],
   "source": [
    "plt.plot(evecs_CG[0],marker='x')"
   ]
  },
  {
   "cell_type": "code",
   "execution_count": null,
   "metadata": {
    "collapsed": false
   },
   "outputs": [],
   "source": [
    "plt.plot(evecs_CG[1],marker='x')"
   ]
  },
  {
   "cell_type": "code",
   "execution_count": null,
   "metadata": {
    "collapsed": false
   },
   "outputs": [],
   "source": [
    "plt.plot(evecs_CG[2],marker='x')"
   ]
  },
  {
   "cell_type": "code",
   "execution_count": null,
   "metadata": {
    "collapsed": false
   },
   "outputs": [],
   "source": [
    "import colorsys\n",
    "val = 3\n",
    "n_states = len(mpp_state_map_full[val])\n",
    "HSV_tuples = [(x*1.0/n_states, 0.5, 0.5) for x in range(n_states)]\n",
    "RGB_tuples = map(lambda x: colorsys.hsv_to_rgb(*x), HSV_tuples)\n",
    "state_colors = np.array(RGB_tuples)[mpp_state_backmap_full[val].astype(int)]"
   ]
  },
  {
   "cell_type": "code",
   "execution_count": null,
   "metadata": {
    "collapsed": false
   },
   "outputs": [],
   "source": [
    "n_states = len(np.unique(mpp_state_backmap_full[val]))\n",
    "# disperse the hubs around the unit circle\n",
    "grids = np.linspace(-np.pi+np.pi/2.,np.pi+np.pi/2.,n_states+1)\n",
    "x = sin(grids[1:])\n",
    "y = cos(grids[1:])\n",
    "hubs = np.array(zip(x,y))\n",
    "# now, disperse the belonging states around each hub\n",
    "memb_pos = []\n",
    "for hub in range(n_states):\n",
    "    n_members = len(mpp_state_map[val][hub][1])\n",
    "    print n_members\n",
    "    grids = np.linspace(-np.pi,np.pi,n_members+1)\n",
    "    x = hubs[hub][0] + sin(grids[1:])/n_states\n",
    "    y = hubs[hub][1] + cos(grids[1:])/n_states\n",
    "    memb_pos.append(np.array(zip(x,y)))"
   ]
  },
  {
   "cell_type": "code",
   "execution_count": null,
   "metadata": {
    "collapsed": false
   },
   "outputs": [],
   "source": [
    "hub_ctr = np.zeros(n_states).astype(int)\n",
    "x = []\n",
    "y = []\n",
    "for state in range(len(cc_full)):\n",
    "    hub = mpp_state_backmap_full[val].astype(int)[state]\n",
    "    x.append(memb_pos[hub][hub_ctr[hub]].tolist()[0])\n",
    "    y.append(memb_pos[hub][hub_ctr[hub]].tolist()[1])\n",
    "    hub_ctr[hub] += 1\n",
    "pos_full = np.array(zip(x,y))"
   ]
  },
  {
   "cell_type": "code",
   "execution_count": null,
   "metadata": {
    "collapsed": false
   },
   "outputs": [],
   "source": [
    "mplt.plot_markov_model(mle.transition_matrix, pos=pos_full, state_labels=cc_labels, state_colors=state_colors, minflux=1e-3, arrow_scale=0.5, arrow_labels=None, arrow_label_format='None')\n",
    "gca().set_frame_on(False)"
   ]
  },
  {
   "cell_type": "code",
   "execution_count": null,
   "metadata": {
    "collapsed": false
   },
   "outputs": [],
   "source": [
    "dtraj_CG = []\n",
    "dtraj_CG.append(mpp_state_backmap_full[val].astype(int)[dtraj_full[0]])"
   ]
  },
  {
   "cell_type": "code",
   "execution_count": null,
   "metadata": {
    "collapsed": false
   },
   "outputs": [],
   "source": [
    "its = msm.timescales_msm(dtraj_CG, lags=20, nits=n_states-1)"
   ]
  },
  {
   "cell_type": "code",
   "execution_count": null,
   "metadata": {
    "collapsed": false
   },
   "outputs": [],
   "source": [
    "matplotlib.rcParams.update({'font.size': 14})\n",
    "mplt.plot_implied_timescales(its, ylog=False, units='steps', linewidth=2)\n",
    "#xlim(0, 1100); ylim(0, 2500);"
   ]
  },
  {
   "cell_type": "code",
   "execution_count": null,
   "metadata": {
    "collapsed": false
   },
   "outputs": [],
   "source": [
    "# make a model from the original data\n",
    "tau_CG = 3\n",
    "mle_CG = msm.bayesian_markov_model(dtraj_CG,tau_CG,nsamples=100)\n",
    "evals_CG = mle_CG.eigenvalues(n_states)\n",
    "evecs_CG = mle_CG.eigenvectors_left(n_states)"
   ]
  },
  {
   "cell_type": "code",
   "execution_count": null,
   "metadata": {
    "collapsed": false
   },
   "outputs": [],
   "source": [
    "memb = np.zeros(shape=(len(cc_full),n_states))\n",
    "for state in range(len(cc_full)):\n",
    "    memb[state][mpp_state_backmap_full[val].astype(int)[state]] = 1\n",
    "ck = mle.cktest(n_states, memberships=memb, mlags=11, err_est=False)"
   ]
  },
  {
   "cell_type": "code",
   "execution_count": null,
   "metadata": {
    "collapsed": false
   },
   "outputs": [],
   "source": [
    "mplt.plot_cktest(ck, diag=True, figsize=(15,10), layout=(3,4), padding_top=0.1, y01=False, padding_between=0.5, dt=1, units='steps')"
   ]
  },
  {
   "cell_type": "code",
   "execution_count": null,
   "metadata": {
    "collapsed": false
   },
   "outputs": [],
   "source": [
    "import colorsys\n",
    "val = 4\n",
    "n_states = len(mpp_state_map_full[val])\n",
    "HSV_tuples = [(x*1.0/n_states, 0.5, 0.5) for x in range(n_states)]\n",
    "RGB_tuples = map(lambda x: colorsys.hsv_to_rgb(*x), HSV_tuples)\n",
    "state_colors = np.array(RGB_tuples)[mpp_state_backmap_full[val].astype(int)]"
   ]
  },
  {
   "cell_type": "code",
   "execution_count": null,
   "metadata": {
    "collapsed": false
   },
   "outputs": [],
   "source": [
    "n_states = len(np.unique(mpp_state_backmap_full[val]))\n",
    "# disperse the hubs around the unit circle\n",
    "grids = np.linspace(-np.pi+np.pi/2.,np.pi+np.pi/2.,n_states+1)\n",
    "x = sin(grids[1:])\n",
    "y = cos(grids[1:])\n",
    "hubs = np.array(zip(x,y))\n",
    "# reorder by hand\n",
    "#print hubs[0]\n",
    "#hubs[9][0] = hubs[8][0]+np.pi/2.\n",
    "#hubs[9][1] = hubs[8][1]-np.pi/3.\n",
    "# now, disperse the belonging states around each hub\n",
    "memb_pos = [[] for x in range(n_states)]\n",
    "hub_reorder = np.arange(n_states) #[6,0,7,8,5,1,4,2,3,9] #[0,1,3,4,2,8,7,5,6]\n",
    "for hub in range(n_states):\n",
    "    n_members = len(mpp_state_map[val][hub][1])\n",
    "    print n_members\n",
    "    grids = np.linspace(-np.pi,np.pi,n_members+1)\n",
    "    hubr = hub_reorder[hub]\n",
    "    x = hubs[hubr][0] + sin(grids[1:])/n_states\n",
    "    y = hubs[hubr][1] + cos(grids[1:])/n_states\n",
    "    memb_pos[hub] = np.array(zip(x,y))"
   ]
  },
  {
   "cell_type": "code",
   "execution_count": null,
   "metadata": {
    "collapsed": false
   },
   "outputs": [],
   "source": [
    "hub_ctr = np.zeros(n_states).astype(int)\n",
    "x = []\n",
    "y = []\n",
    "for state in range(len(cc_full)):\n",
    "    hub = mpp_state_backmap_full[val].astype(int)[state]\n",
    "    #hubr = np.where( np.array(hub_reorder)==hub )[0][0]\n",
    "    x.append(memb_pos[hub][hub_ctr[hub]].tolist()[0])\n",
    "    y.append(memb_pos[hub][hub_ctr[hub]].tolist()[1])\n",
    "    hub_ctr[hub] += 1\n",
    "pos_full = np.array(zip(x,y))"
   ]
  },
  {
   "cell_type": "code",
   "execution_count": null,
   "metadata": {
    "collapsed": false
   },
   "outputs": [],
   "source": [
    "mplt.plot_markov_model(mle.transition_matrix, pos=pos_full, state_labels=cc_labels, state_colors=state_colors, minflux=2e-3, arrow_scale=0.5, arrow_labels=None, arrow_label_format='None',size=20)\n",
    "gca().set_frame_on(False)"
   ]
  },
  {
   "cell_type": "code",
   "execution_count": null,
   "metadata": {
    "collapsed": false
   },
   "outputs": [],
   "source": [
    "mplt.plot_markov_model(mle.transition_matrix, pos=pos_full, state_labels=cc_labels, state_scale=1, state_colors=comm_colors_full, minflux=9e-4, arrow_scale=1, arrow_labels=None, arrow_label_format='None',size=16)\n",
    "gca().set_frame_on(False)"
   ]
  },
  {
   "cell_type": "code",
   "execution_count": null,
   "metadata": {
    "collapsed": false
   },
   "outputs": [],
   "source": [
    "dtraj_CG = []\n",
    "dtraj_CG.append(mpp_state_backmap_full[val].astype(int)[dtraj_full[0]])"
   ]
  },
  {
   "cell_type": "code",
   "execution_count": null,
   "metadata": {
    "collapsed": false
   },
   "outputs": [],
   "source": [
    "its = msm.timescales_msm(dtraj_CG, lags=200, nits=n_states-1)"
   ]
  },
  {
   "cell_type": "code",
   "execution_count": null,
   "metadata": {
    "collapsed": false
   },
   "outputs": [],
   "source": [
    "matplotlib.rcParams.update({'font.size': 14})\n",
    "mplt.plot_implied_timescales(its, ylog=False, units='steps', linewidth=2)\n",
    "#xlim(0, 1100); ylim(0, 2500);"
   ]
  },
  {
   "cell_type": "code",
   "execution_count": null,
   "metadata": {
    "collapsed": false
   },
   "outputs": [],
   "source": [
    "# make a model from the original data\n",
    "tau_CG = 75\n",
    "mle_CG = msm.bayesian_markov_model(dtraj_CG,tau_CG,nsamples=100)\n",
    "evals_CG = mle_CG.eigenvalues(n_states)\n",
    "evecs_CG = mle_CG.eigenvectors_left(n_states)"
   ]
  },
  {
   "cell_type": "code",
   "execution_count": null,
   "metadata": {
    "collapsed": false
   },
   "outputs": [],
   "source": [
    "memb = np.zeros(shape=(len(cc_full),n_states))\n",
    "for state in range(len(cc_full)):\n",
    "    memb[state][mpp_state_backmap_full[val].astype(int)[state]] = 1\n",
    "ck = mle.cktest(n_states, memberships=memb, mlags=11, err_est=False)"
   ]
  },
  {
   "cell_type": "code",
   "execution_count": null,
   "metadata": {
    "collapsed": false
   },
   "outputs": [],
   "source": [
    "mplt.plot_cktest(ck, diag=True, figsize=(15,10), layout=(3,3), padding_top=0.1, y01=False, padding_between=0.5, dt=1, units='steps')"
   ]
  },
  {
   "cell_type": "code",
   "execution_count": null,
   "metadata": {
    "collapsed": false
   },
   "outputs": [],
   "source": [
    "import colorsys\n",
    "val = 5\n",
    "n_states = len(mpp_state_map_full[val])\n",
    "HSV_tuples = [(x*1.0/n_states, 0.5, 0.5) for x in range(n_states)]\n",
    "RGB_tuples = map(lambda x: colorsys.hsv_to_rgb(*x), HSV_tuples)\n",
    "state_colors = np.array(RGB_tuples)[mpp_state_backmap_full[val].astype(int)]"
   ]
  },
  {
   "cell_type": "code",
   "execution_count": null,
   "metadata": {
    "collapsed": false
   },
   "outputs": [],
   "source": [
    "n_states = len(np.unique(mpp_state_backmap_full[val]))\n",
    "# disperse the hubs around the unit circle\n",
    "grids = np.linspace(-np.pi+np.pi/2.,np.pi+np.pi/2.,n_states+1)\n",
    "x = sin(grids[1:])\n",
    "y = cos(grids[1:])\n",
    "hubs = np.array(zip(x,y))\n",
    "# reorder by hand\n",
    "#print hubs[0]\n",
    "#hubs[4][0] = hubs[4][0]+np.pi\n",
    "hubs[1][0] = hubs[1][0]-np.pi/2.\n",
    "# now, disperse the belonging states around each hub\n",
    "memb_pos = [[] for x in range(n_states)]\n",
    "hub_reorder = [0,4,2,5,3,1]\n",
    "for hub in range(n_states):\n",
    "    n_members = len(mpp_state_map[val][hub][1])\n",
    "    print n_members\n",
    "    grids = np.linspace(-np.pi,np.pi,n_members+1)\n",
    "    hubr = hub_reorder[hub]\n",
    "    x = hubs[hubr][0] + sin(grids[1:])/n_states\n",
    "    y = hubs[hubr][1] + cos(grids[1:])/n_states\n",
    "    memb_pos[hub] = np.array(zip(x,y))"
   ]
  },
  {
   "cell_type": "code",
   "execution_count": null,
   "metadata": {
    "collapsed": true
   },
   "outputs": [],
   "source": [
    "hub_ctr = np.zeros(n_states).astype(int)\n",
    "x = []\n",
    "y = []\n",
    "for state in range(len(cc_full)):\n",
    "    hub = mpp_state_backmap_full[val].astype(int)[state]\n",
    "    #hubr = np.where( np.array(hub_reorder)==hub )[0][0]\n",
    "    x.append(memb_pos[hub][hub_ctr[hub]].tolist()[0])\n",
    "    y.append(memb_pos[hub][hub_ctr[hub]].tolist()[1])\n",
    "    hub_ctr[hub] += 1\n",
    "pos_full = np.array(zip(x,y))"
   ]
  },
  {
   "cell_type": "code",
   "execution_count": null,
   "metadata": {
    "collapsed": false
   },
   "outputs": [],
   "source": [
    "hubs[hub_reorder]"
   ]
  },
  {
   "cell_type": "code",
   "execution_count": null,
   "metadata": {
    "collapsed": false
   },
   "outputs": [],
   "source": [
    "mplt.plot_markov_model(mle.transition_matrix, pos=pos_full, state_labels=cc_labels, state_scale=2, state_colors=state_colors, minflux=9e-4, arrow_scale=1, arrow_labels=None, arrow_label_format='None',size=16)\n",
    "gca().set_frame_on(False)\n",
    "#plt.text(0,0, cc_labels[0], size=30)"
   ]
  },
  {
   "cell_type": "code",
   "execution_count": null,
   "metadata": {
    "collapsed": false
   },
   "outputs": [],
   "source": [
    "mplt.plot_markov_model(mle.transition_matrix, pos=pos_full, state_labels=cc_labels, state_scale=1, state_colors=comm_colors_full, minflux=9e-4, arrow_scale=1, arrow_labels=None, arrow_label_format='None',size=16)\n",
    "gca().set_frame_on(False)"
   ]
  },
  {
   "cell_type": "code",
   "execution_count": null,
   "metadata": {
    "collapsed": true
   },
   "outputs": [],
   "source": [
    "dtraj_CG = []\n",
    "dtraj_CG.append(mpp_state_backmap_full[val].astype(int)[dtraj_full[0]])"
   ]
  },
  {
   "cell_type": "code",
   "execution_count": null,
   "metadata": {
    "collapsed": true
   },
   "outputs": [],
   "source": [
    "its = msm.timescales_msm(dtraj_CG, lags=300, nits=n_states-1)"
   ]
  },
  {
   "cell_type": "code",
   "execution_count": null,
   "metadata": {
    "collapsed": false
   },
   "outputs": [],
   "source": [
    "matplotlib.rcParams.update({'font.size': 14})\n",
    "mplt.plot_implied_timescales(its, ylog=False, units='steps', linewidth=2)\n",
    "#xlim(0, 1100); ylim(0, 2500);"
   ]
  },
  {
   "cell_type": "code",
   "execution_count": null,
   "metadata": {
    "collapsed": true
   },
   "outputs": [],
   "source": [
    "# make a model from the original data\n",
    "tau_CG = 60\n",
    "mle_CG = msm.bayesian_markov_model(dtraj_CG,tau_CG,nsamples=100)\n",
    "evals_CG = mle_CG.eigenvalues(n_states)\n",
    "evecs_CG = mle_CG.eigenvectors_left(n_states)"
   ]
  },
  {
   "cell_type": "code",
   "execution_count": null,
   "metadata": {
    "collapsed": true
   },
   "outputs": [],
   "source": [
    "memb = np.zeros(shape=(len(cc_full),n_states))\n",
    "for state in range(len(cc_full)):\n",
    "    memb[state][mpp_state_backmap_full[val].astype(int)[state]] = 1\n",
    "ck = mle.cktest(n_states, memberships=memb, mlags=11, err_est=False)"
   ]
  },
  {
   "cell_type": "code",
   "execution_count": null,
   "metadata": {
    "collapsed": false
   },
   "outputs": [],
   "source": [
    "mplt.plot_cktest(ck, diag=True, figsize=(15,10), layout=(2,3), padding_top=0.1, y01=False, padding_between=0.5, dt=1, units='steps')"
   ]
  },
  {
   "cell_type": "code",
   "execution_count": null,
   "metadata": {
    "collapsed": false
   },
   "outputs": [],
   "source": [
    "plt.plot(evals_CG,marker='x')"
   ]
  },
  {
   "cell_type": "code",
   "execution_count": null,
   "metadata": {
    "collapsed": false
   },
   "outputs": [],
   "source": [
    "plt.plot(evecs_CG[0],marker='x')"
   ]
  },
  {
   "cell_type": "code",
   "execution_count": null,
   "metadata": {
    "collapsed": false
   },
   "outputs": [],
   "source": [
    "plt.plot(evecs_CG[1],marker='x')"
   ]
  },
  {
   "cell_type": "code",
   "execution_count": null,
   "metadata": {
    "collapsed": false
   },
   "outputs": [],
   "source": [
    "plt.plot(evecs_CG[2],marker='x')"
   ]
  },
  {
   "cell_type": "code",
   "execution_count": null,
   "metadata": {
    "collapsed": true
   },
   "outputs": [],
   "source": [
    "tpt_mle_CG = msm.tpt(mle_CG,[0],[4])"
   ]
  },
  {
   "cell_type": "code",
   "execution_count": null,
   "metadata": {
    "collapsed": true
   },
   "outputs": [],
   "source": [
    "comm = tpt_mle_CG.committor"
   ]
  },
  {
   "cell_type": "code",
   "execution_count": null,
   "metadata": {
    "collapsed": true
   },
   "outputs": [],
   "source": [
    "# define the colormap\n",
    "mycmap = plt.cm.seismic\n",
    "# extract all colors from the .jet map\n",
    "mycmaplist = [mycmap(i) for i in range(mycmap.N)]\n",
    "Ngrids = 51\n",
    "# create the new map\n",
    "mycmap = mycmap.from_list('Custom cmap', mycmaplist, mycmap.N)\n",
    "# define the bins and normalize\n",
    "bounds = np.linspace(0.,1.,Ngrids)\n",
    "norm = matplotlib.colors.BoundaryNorm(bounds, mycmap.N)"
   ]
  },
  {
   "cell_type": "code",
   "execution_count": null,
   "metadata": {
    "collapsed": true
   },
   "outputs": [],
   "source": [
    "state_colors = []\n",
    "for state in range(len(comm)):\n",
    "    state_colors.append(mycmap(comm[state]))"
   ]
  },
  {
   "cell_type": "code",
   "execution_count": null,
   "metadata": {
    "collapsed": false
   },
   "outputs": [],
   "source": [
    "mplt.plot_markov_model(mle_CG.transition_matrix, pos=hubs, state_labels=np.arange(len(hubs)).astype('S1'), state_colors=state_colors, minflux=8e-4, arrow_labels=None, arrow_label_format='None')\n",
    "gca().set_frame_on(False)"
   ]
  },
  {
   "cell_type": "code",
   "execution_count": null,
   "metadata": {
    "collapsed": true
   },
   "outputs": [],
   "source": []
  },
  {
   "cell_type": "code",
   "execution_count": null,
   "metadata": {
    "collapsed": true
   },
   "outputs": [],
   "source": []
  }
 ],
 "metadata": {
  "kernelspec": {
   "display_name": "Python 2",
   "language": "python",
   "name": "python2"
  },
  "language_info": {
   "codemirror_mode": {
    "name": "ipython",
    "version": 2
   },
   "file_extension": ".py",
   "mimetype": "text/x-python",
   "name": "python",
   "nbconvert_exporter": "python",
   "pygments_lexer": "ipython2",
   "version": "2.7.11"
  }
 },
 "nbformat": 4,
 "nbformat_minor": 0
}
