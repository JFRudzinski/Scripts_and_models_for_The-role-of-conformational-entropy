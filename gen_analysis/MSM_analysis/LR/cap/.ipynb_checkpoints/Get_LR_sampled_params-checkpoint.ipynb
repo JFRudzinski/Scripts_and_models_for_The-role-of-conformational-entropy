{
 "cells": [
  {
   "cell_type": "markdown",
   "metadata": {},
   "source": [
    "Collect the data from LR sampling\n",
    "===="
   ]
  },
  {
   "cell_type": "code",
   "execution_count": 1,
   "metadata": {
    "collapsed": false
   },
   "outputs": [
    {
     "data": {
      "text/plain": [
       "'2.1.1'"
      ]
     },
     "execution_count": 1,
     "metadata": {},
     "output_type": "execute_result"
    }
   ],
   "source": [
    "import pyemma\n",
    "pyemma.__version__"
   ]
  },
  {
   "cell_type": "code",
   "execution_count": 2,
   "metadata": {
    "collapsed": false
   },
   "outputs": [
    {
     "name": "stdout",
     "output_type": "stream",
     "text": [
      "Populating the interactive namespace from numpy and matplotlib\n"
     ]
    }
   ],
   "source": [
    "import os\n",
    "%pylab inline\n",
    "matplotlib.rcParams.update({'font.size': 12})"
   ]
  },
  {
   "cell_type": "code",
   "execution_count": 3,
   "metadata": {
    "collapsed": true
   },
   "outputs": [],
   "source": [
    "import pyemma.coordinates as coor\n",
    "import pyemma.msm as msm\n",
    "import pyemma.plots as mplt\n",
    "import msmbuilder\n",
    "from msmbuilder.msm.ratematrix import ContinuousTimeMSM\n",
    "import scipy\n",
    "from msmtools.analysis.dense.decomposition import eigenvectors, eigenvalues\n",
    "import operator"
   ]
  },
  {
   "cell_type": "markdown",
   "metadata": {
    "collapsed": true
   },
   "source": [
    "Read in the data\n",
    "------"
   ]
  },
  {
   "cell_type": "code",
   "execution_count": 4,
   "metadata": {
    "collapsed": false
   },
   "outputs": [],
   "source": [
    "# The LR sampling output data\n",
    "Nproc = 16\n",
    "lnw = []\n",
    "lnv = []\n",
    "lnc = []\n",
    "lnn = []\n",
    "L = []\n",
    "for i in range(Nproc):\n",
    "    data = np.load('output_variables_'+str(i)+'.npz')\n",
    "    lnw.append(data['lnw'])\n",
    "    lnv.append(data['lnv'])\n",
    "    lnc.append(data['lnc'])\n",
    "    lnn.append(data['lnn'])\n",
    "    L.append(data['L'])\n",
    "lnw = np.array(lnw)\n",
    "lnv = np.array(lnv)\n",
    "lnc = np.array(lnc)\n",
    "lnn = np.array(lnn)\n",
    "L = np.array(L)\n",
    "\n",
    "# The LR sampling input data\n",
    "LR_const_params_adj = np.load('../LR_const_params_adj.npz')\n",
    "Nk = LR_const_params_adj['Nk']\n",
    "Nv_adj = LR_const_params_adj['Nv']\n",
    "Nw_adj = LR_const_params_adj['Nw']\n",
    "#\n",
    "LR_const_params = np.load('../LR_const_params.npz')\n",
    "Nv = LR_const_params['Nv']\n",
    "Nw = LR_const_params['Nw']\n",
    "#\n",
    "LR_const_params_cap = np.load('../LR_const_params_cap.npz')\n",
    "Nv_cap = LR_const_params['Nv']\n",
    "Nw_cap = LR_const_params['Nw']\n",
    "\n",
    "# The eqm prop weights\n",
    "indir = '/data/isilon/rudzinski/cluster_tmp/ALA7/ALA7_hybrid_AMBER_Go/wDB-HP_inter/Find_Tfold/NC_CA/2016_10_11/'\n",
    "state_weights_eqm_prop = np.load(indir+'state_weights_eqm_prop.npz')\n",
    "Nhi_weight = state_weights_eqm_prop['Nhi_weight']\n",
    "Nh_weight = state_weights_eqm_prop['Nh_weight']\n",
    "Nhb_weight = state_weights_eqm_prop['Nhb_weight']\n",
    "Nl_weight = state_weights_eqm_prop['Nl_weight']\n",
    "l_weight = state_weights_eqm_prop['l_weight']\n",
    "fh_weight = state_weights_eqm_prop['fh_weight']\n",
    "Ns_weight = state_weights_eqm_prop['Ns_weight']\n",
    "hi_weight = state_weights_eqm_prop['hi_weight']\n",
    "\n",
    "cc_full = np.load('../../BMSM/dtraj/cc_full.npy')\n",
    "state_LR_weights = np.load(indir+'state_LR_weights.npy')\n",
    "\n",
    "# The MSM\n",
    "Tmle = np.load('../../MLE/T_mle.npy')"
   ]
  },
  {
   "cell_type": "code",
   "execution_count": 5,
   "metadata": {
    "collapsed": false
   },
   "outputs": [
    {
     "data": {
      "image/png": "[encoded data removed]",
      "text/plain": [
       "<matplotlib.figure.Figure at 0x7ff239154650>"
      ]
     },
     "metadata": {},
     "output_type": "display_data"
    },
    {
     "data": {
      "image/png": "[encoded data removed]",
      "text/plain": [
       "<matplotlib.figure.Figure at 0x7ff2391550d0>"
      ]
     },
     "metadata": {},
     "output_type": "display_data"
    },
    {
     "data": {
      "image/png": "[encoded data removed]",
      "text/plain": [
       "<matplotlib.figure.Figure at 0x7ff236924dd0>"
      ]
     },
     "metadata": {},
     "output_type": "display_data"
    },
    {
     "data": {
      "image/png": "[encoded data removed]",
      "text/plain": [
       "<matplotlib.figure.Figure at 0x7ff2368eb690>"
      ]
     },
     "metadata": {},
     "output_type": "display_data"
    },
    {
     "data": {
      "image/png": "[encoded data removed]",
      "text/plain": [
       "<matplotlib.figure.Figure at 0x7ff236763e10>"
      ]
     },
     "metadata": {},
     "output_type": "display_data"
    },
    {
     "data": {
      "image/png": "[encoded data removed]",
      "text/plain": [
       "<matplotlib.figure.Figure at 0x7ff236732290>"
      ]
     },
     "metadata": {},
     "output_type": "display_data"
    },
    {
     "data": {
      "image/png": "[encoded data removed]",
      "text/plain": [
       "<matplotlib.figure.Figure at 0x7ff236693290>"
      ]
     },
     "metadata": {},
     "output_type": "display_data"
    }
   ],
   "source": [
    "tmp = plt.hist(np.concatenate(np.exp(lnw[:,:,0])),10)\n",
    "ax = plt.gca()\n",
    "ax.get_xaxis().get_major_formatter().set_useOffset(False)\n",
    "plt.show()\n",
    "tmp = plt.hist(np.concatenate(np.exp(lnw[:,:,1])),10)\n",
    "ax = plt.gca()\n",
    "ax.get_xaxis().get_major_formatter().set_useOffset(False)\n",
    "plt.show()\n",
    "tmp = plt.hist(np.concatenate(np.exp(lnw[:,:,2])),10)\n",
    "ax = plt.gca()\n",
    "ax.get_xaxis().get_major_formatter().set_useOffset(False)\n",
    "plt.show()\n",
    "tmp = plt.hist(np.concatenate(np.exp(lnw[:,:,3])),10)\n",
    "ax = plt.gca()\n",
    "ax.get_xaxis().get_major_formatter().set_useOffset(False)\n",
    "plt.show()\n",
    "tmp = plt.hist(np.concatenate(np.exp(lnw[:,:,4])),10)\n",
    "ax = plt.gca()\n",
    "ax.get_xaxis().get_major_formatter().set_useOffset(False)\n",
    "plt.show()\n",
    "tmp = plt.hist(np.concatenate(np.exp(lnw[:,:,5])),10)\n",
    "ax = plt.gca()\n",
    "ax.get_xaxis().get_major_formatter().set_useOffset(False)\n",
    "plt.show()\n",
    "tmp = plt.hist(np.concatenate(np.exp(lnw[:,:,6])),10)\n",
    "ax = plt.gca()\n",
    "ax.get_xaxis().get_major_formatter().set_useOffset(False)\n",
    "plt.show()"
   ]
  },
  {
   "cell_type": "code",
   "execution_count": 6,
   "metadata": {
    "collapsed": false
   },
   "outputs": [
    {
     "data": {
      "image/png": "[encoded data removed]",
      "text/plain": [
       "<matplotlib.figure.Figure at 0x7ff239157f90>"
      ]
     },
     "metadata": {},
     "output_type": "display_data"
    },
    {
     "data": {
      "image/png": "[encoded data removed]",
      "text/plain": [
       "<matplotlib.figure.Figure at 0x7ff23641cb10>"
      ]
     },
     "metadata": {},
     "output_type": "display_data"
    },
    {
     "data": {
      "image/png": "[encoded data removed]",
      "text/plain": [
       "<matplotlib.figure.Figure at 0x7ff236318f90>"
      ]
     },
     "metadata": {},
     "output_type": "display_data"
    },
    {
     "data": {
      "image/png": "[encoded data removed]",
      "text/plain": [
       "<matplotlib.figure.Figure at 0x7ff23619ea10>"
      ]
     },
     "metadata": {},
     "output_type": "display_data"
    },
    {
     "data": {
      "image/png": "[encoded data removed]",
      "text/plain": [
       "<matplotlib.figure.Figure at 0x7ff2360a13d0>"
      ]
     },
     "metadata": {},
     "output_type": "display_data"
    },
    {
     "data": {
      "image/png": "[encoded data removed]",
      "text/plain": [
       "<matplotlib.figure.Figure at 0x7ff2362e0950>"
      ]
     },
     "metadata": {},
     "output_type": "display_data"
    },
    {
     "data": {
      "image/png": "[encoded data removed]",
      "text/plain": [
       "<matplotlib.figure.Figure at 0x7ff236428c50>"
      ]
     },
     "metadata": {},
     "output_type": "display_data"
    }
   ],
   "source": [
    "tmp = plt.hist(np.concatenate(np.exp(lnv[:,:,0])),10)\n",
    "ax = plt.gca()\n",
    "ax.get_xaxis().get_major_formatter().set_useOffset(False)\n",
    "plt.show()\n",
    "tmp = plt.hist(np.concatenate(np.exp(lnv[:,:,1])),10)\n",
    "ax = plt.gca()\n",
    "ax.get_xaxis().get_major_formatter().set_useOffset(False)\n",
    "plt.show()\n",
    "tmp = plt.hist(np.concatenate(np.exp(lnv[:,:,2])),10)\n",
    "ax = plt.gca()\n",
    "ax.get_xaxis().get_major_formatter().set_useOffset(False)\n",
    "plt.show()\n",
    "tmp = plt.hist(np.concatenate(np.exp(lnv[:,:,3])),10)\n",
    "ax = plt.gca()\n",
    "ax.get_xaxis().get_major_formatter().set_useOffset(False)\n",
    "plt.show()\n",
    "tmp = plt.hist(np.concatenate(np.exp(lnv[:,:,4])),10)\n",
    "ax = plt.gca()\n",
    "ax.get_xaxis().get_major_formatter().set_useOffset(False)\n",
    "plt.show()\n",
    "tmp = plt.hist(np.concatenate(np.exp(lnv[:,:,5])),10)\n",
    "ax = plt.gca()\n",
    "ax.get_xaxis().get_major_formatter().set_useOffset(False)\n",
    "plt.show()\n",
    "tmp = plt.hist(np.concatenate(np.exp(lnv[:,:,6])),10)\n",
    "ax = plt.gca()\n",
    "ax.get_xaxis().get_major_formatter().set_useOffset(False)\n",
    "plt.show()"
   ]
  },
  {
   "cell_type": "code",
   "execution_count": 7,
   "metadata": {
    "collapsed": false
   },
   "outputs": [
    {
     "data": {
      "image/png": "[encoded data removed]",
      "text/plain": [
       "<matplotlib.figure.Figure at 0x7ff23916b690>"
      ]
     },
     "metadata": {},
     "output_type": "display_data"
    },
    {
     "data": {
      "image/png": "[encoded data removed]",
      "text/plain": [
       "<matplotlib.figure.Figure at 0x7ff236288f90>"
      ]
     },
     "metadata": {},
     "output_type": "display_data"
    },
    {
     "data": {
      "image/png": "[encoded data removed]",
      "text/plain": [
       "<matplotlib.figure.Figure at 0x7ff236373fd0>"
      ]
     },
     "metadata": {},
     "output_type": "display_data"
    },
    {
     "data": {
      "image/png": "[encoded data removed]",
      "text/plain": [
       "<matplotlib.figure.Figure at 0x7ff23694dc90>"
      ]
     },
     "metadata": {},
     "output_type": "display_data"
    },
    {
     "data": {
      "image/png": "[encoded data removed]",
      "text/plain": [
       "<matplotlib.figure.Figure at 0x7ff23647ef90>"
      ]
     },
     "metadata": {},
     "output_type": "display_data"
    },
    {
     "data": {
      "image/png": "[encoded data removed]",
      "text/plain": [
       "<matplotlib.figure.Figure at 0x7ff23689fd50>"
      ]
     },
     "metadata": {},
     "output_type": "display_data"
    },
    {
     "data": {
      "image/png": "[encoded data removed]",
      "text/plain": [
       "<matplotlib.figure.Figure at 0x7ff236909f90>"
      ]
     },
     "metadata": {},
     "output_type": "display_data"
    }
   ],
   "source": [
    "tmp = plt.hist(np.concatenate(np.exp(lnc[:,:,0])),10)\n",
    "ax = plt.gca()\n",
    "ax.get_xaxis().get_major_formatter().set_useOffset(False)\n",
    "plt.show()\n",
    "tmp = plt.hist(np.concatenate(np.exp(lnc[:,:,1])),10)\n",
    "ax = plt.gca()\n",
    "ax.get_xaxis().get_major_formatter().set_useOffset(False)\n",
    "plt.show()\n",
    "tmp = plt.hist(np.concatenate(np.exp(lnc[:,:,2])),10)\n",
    "ax = plt.gca()\n",
    "ax.get_xaxis().get_major_formatter().set_useOffset(False)\n",
    "plt.show()\n",
    "tmp = plt.hist(np.concatenate(np.exp(lnc[:,:,3])),10)\n",
    "ax = plt.gca()\n",
    "ax.get_xaxis().get_major_formatter().set_useOffset(False)\n",
    "plt.show()\n",
    "tmp = plt.hist(np.concatenate(np.exp(lnc[:,:,4])),10)\n",
    "ax = plt.gca()\n",
    "ax.get_xaxis().get_major_formatter().set_useOffset(False)\n",
    "plt.show()\n",
    "tmp = plt.hist(np.concatenate(np.exp(lnc[:,:,5])),10)\n",
    "ax = plt.gca()\n",
    "ax.get_xaxis().get_major_formatter().set_useOffset(False)\n",
    "plt.show()\n",
    "tmp = plt.hist(np.concatenate(np.exp(lnc[:,:,6])),10)\n",
    "ax = plt.gca()\n",
    "ax.get_xaxis().get_major_formatter().set_useOffset(False)\n",
    "plt.show()"
   ]
  },
  {
   "cell_type": "code",
   "execution_count": 8,
   "metadata": {
    "collapsed": false
   },
   "outputs": [
    {
     "data": {
      "image/png": "[encoded data removed]",
      "text/plain": [
       "<matplotlib.figure.Figure at 0x7ff2369e1050>"
      ]
     },
     "metadata": {},
     "output_type": "display_data"
    },
    {
     "data": {
      "image/png": "[encoded data removed]",
      "text/plain": [
       "<matplotlib.figure.Figure at 0x7ff235f7d750>"
      ]
     },
     "metadata": {},
     "output_type": "display_data"
    },
    {
     "data": {
      "image/png": "[encoded data removed]",
      "text/plain": [
       "<matplotlib.figure.Figure at 0x7ff2368fd290>"
      ]
     },
     "metadata": {},
     "output_type": "display_data"
    },
    {
     "data": {
      "image/png": "[encoded data removed]",
      "text/plain": [
       "<matplotlib.figure.Figure at 0x7ff236843ad0>"
      ]
     },
     "metadata": {},
     "output_type": "display_data"
    },
    {
     "data": {
      "image/png": "[encoded data removed]",
      "text/plain": [
       "<matplotlib.figure.Figure at 0x7ff23655dfd0>"
      ]
     },
     "metadata": {},
     "output_type": "display_data"
    },
    {
     "data": {
      "image/png": "[encoded data removed]",
      "text/plain": [
       "<matplotlib.figure.Figure at 0x7ff236465e10>"
      ]
     },
     "metadata": {},
     "output_type": "display_data"
    },
    {
     "data": {
      "image/png": "[encoded data removed]",
      "text/plain": [
       "<matplotlib.figure.Figure at 0x7ff236a49e10>"
      ]
     },
     "metadata": {},
     "output_type": "display_data"
    }
   ],
   "source": [
    "tmp = plt.hist(np.concatenate(np.exp(lnn[:,:,0])),10)\n",
    "ax = plt.gca()\n",
    "ax.get_xaxis().get_major_formatter().set_useOffset(False)\n",
    "plt.show()\n",
    "tmp = plt.hist(np.concatenate(np.exp(lnn[:,:,1])),10)\n",
    "ax = plt.gca()\n",
    "ax.get_xaxis().get_major_formatter().set_useOffset(False)\n",
    "plt.show()\n",
    "tmp = plt.hist(np.concatenate(np.exp(lnn[:,:,2])),10)\n",
    "ax = plt.gca()\n",
    "ax.get_xaxis().get_major_formatter().set_useOffset(False)\n",
    "plt.show()\n",
    "tmp = plt.hist(np.concatenate(np.exp(lnn[:,:,3])),10)\n",
    "ax = plt.gca()\n",
    "ax.get_xaxis().get_major_formatter().set_useOffset(False)\n",
    "plt.show()\n",
    "tmp = plt.hist(np.concatenate(np.exp(lnn[:,:,4])),10)\n",
    "ax = plt.gca()\n",
    "ax.get_xaxis().get_major_formatter().set_useOffset(False)\n",
    "plt.show()\n",
    "tmp = plt.hist(np.concatenate(np.exp(lnn[:,:,5])),10)\n",
    "ax = plt.gca()\n",
    "ax.get_xaxis().get_major_formatter().set_useOffset(False)\n",
    "plt.show()\n",
    "tmp = plt.hist(np.concatenate(np.exp(lnn[:,:,6])),10)\n",
    "ax = plt.gca()\n",
    "ax.get_xaxis().get_major_formatter().set_useOffset(False)\n",
    "plt.show()"
   ]
  },
  {
   "cell_type": "code",
   "execution_count": 9,
   "metadata": {
    "collapsed": false
   },
   "outputs": [
    {
     "data": {
      "image/png": "[encoded data removed]",
      "text/plain": [
       "<matplotlib.figure.Figure at 0x7ff2391577d0>"
      ]
     },
     "metadata": {},
     "output_type": "display_data"
    }
   ],
   "source": [
    "# tmp = plt.hist(np.concatenate(np.exp(lnv[:,:,0])),200)\n",
    "# tmp = plt.hist(np.concatenate(np.exp(lnv[:,:,1])),200)\n",
    "tmp = plt.hist(np.concatenate(np.exp(lnv[:,:,2])),200)\n",
    "# tmp = plt.hist(np.concatenate(np.exp(lnv[:,:,3])),200)\n",
    "# tmp = plt.hist(np.concatenate(np.exp(lnv[:,:,4])),200)"
   ]
  },
  {
   "cell_type": "code",
   "execution_count": 10,
   "metadata": {
    "collapsed": false
   },
   "outputs": [
    {
     "data": {
      "image/png": "[encoded data removed]",
      "text/plain": [
       "<matplotlib.figure.Figure at 0x7ff2360fa1d0>"
      ]
     },
     "metadata": {},
     "output_type": "display_data"
    }
   ],
   "source": [
    "tmp = plt.hist(np.concatenate(L),200)"
   ]
  },
  {
   "cell_type": "code",
   "execution_count": 11,
   "metadata": {
    "collapsed": false
   },
   "outputs": [],
   "source": [
    "proc_max,samp_max = np.where(L==np.max(L))\n",
    "proc_avg,samp_avg = np.where( L-np.mean(L)==np.min(np.abs(L-np.mean(L))) )"
   ]
  },
  {
   "cell_type": "code",
   "execution_count": 24,
   "metadata": {
    "collapsed": false
   },
   "outputs": [],
   "source": [
    "def wv_to_M(N_res,lnw,lnv,lnc,lnn):\n",
    "    M = np.zeros(shape=(N_res,6,6))\n",
    "    for res in range(N_res):\n",
    "        w = np.exp(lnw[res])\n",
    "        v = np.exp(lnv[res])\n",
    "        if ( res+2 < N_res ):\n",
    "            c = np.exp(lnc[res+2])\n",
    "        else:\n",
    "            c = 0.\n",
    "        if ( res-2 >= 0 ):\n",
    "            n = np.exp(lnn[res-2])\n",
    "        else:\n",
    "            n = 0.        \n",
    "        M[res,0,0] = w\n",
    "        M[res,0,1] = w*c\n",
    "        M[res,1,3] = v\n",
    "        M[res,2,0] = w*n\n",
    "        M[res,2,1] = w*n*c\n",
    "        M[res,3,4] = 1.\n",
    "        M[res,3,5] = 1.\n",
    "        M[res,4,2] = v\n",
    "        M[res,4,3] = v\n",
    "        M[res,5,4] = 1.\n",
    "        M[res,5,5] = 1.\n",
    "        \n",
    "    return M\n",
    "\n",
    "def M_to_Z(N_res,M):\n",
    "    vec0 = np.array([0.,0.,0.,0.,0.,1.])\n",
    "    vecf = np.array([0.,0.,0.,0.,0.,1.])\n",
    "    Z = np.dot(vec0,M[0])\n",
    "    for res in range(1,N_res):\n",
    "        Z = np.dot(Z,M[res])\n",
    "    Z = np.dot(Z,vecf)\n",
    "    return Z\n",
    "\n",
    "def calc_h_i(N_res,M,i,w):\n",
    "    from copy import deepcopy\n",
    "    M_i = np.zeros(shape=M[i].shape)\n",
    "    M_i[0,0] = deepcopy(M[i][0,0]) / w\n",
    "    M_i[0,1] = deepcopy(M[i][0,1]) / w\n",
    "    M_i[2,0] = deepcopy(M[i][2,0]) / w\n",
    "    M_i[2,1] = deepcopy(M[i][2,1]) / w\n",
    "      \n",
    "    vec0 = np.array([0.,0.,0.,0.,0.,1.])\n",
    "    vecf = np.array([0.,0.,0.,0.,0.,1.])\n",
    "    Z = M_to_Z(N_res,M)\n",
    "    if ( i == 0 ):\n",
    "        dZdw = np.dot(vec0,M_i)    \n",
    "    else:\n",
    "        dZdw = np.dot(vec0,M[0])\n",
    "    for res in range(1,N_res):\n",
    "        if (i==res):\n",
    "            dZdw = np.dot(dZdw,M_i)\n",
    "        else:\n",
    "            dZdw = np.dot(dZdw,M[res])\n",
    "    dZdw = np.dot(dZdw,vecf)\n",
    "    \n",
    "    return (w/Z)*dZdw\n",
    "\n",
    "def get_h(N_res,M,lnw):\n",
    "    hi = []\n",
    "    for res in range(N_res):\n",
    "        w = np.exp(lnw[res])\n",
    "        hi.append(calc_h_i(N_res,M,res,w))\n",
    "    return np.array(hi)\n",
    "\n",
    "def calc_Ns_i(N_res,M,i,w,c):\n",
    "    # we are calculating d^2 lnZ / (dlnw_i-1 dlnvi)\n",
    "    from copy import deepcopy\n",
    "    dMidw = np.zeros(shape=M[i-1].shape)\n",
    "    dMidw[0,0] = deepcopy(M[i-1][0,0]) / w\n",
    "    dMidw[0,0] = deepcopy(M[i][0,0]) / w\n",
    "    dMidw[0,1] = deepcopy(M[i][0,1]) / w\n",
    "    dMidw[2,0] = deepcopy(M[i][2,0]) / w\n",
    "    dMidw[2,1] = deepcopy(M[i][2,1]) / w\n",
    "    dMidc = np.zeros(shape=M[i-1].shape)\n",
    "    dMidc[0,1] = deepcopy(M[i][0,1]) / c\n",
    "    dMidc[2,1] = deepcopy(M[i][2,1]) / c    \n",
    "    d2Mi = np.zeros(shape=M[i-1].shape)\n",
    "    d2Mi[0,1] = deepcopy(M[i][0,1]) / (w*c)\n",
    "    d2Mi[2,1] = deepcopy(M[i][2,1]) / (w*c)    \n",
    "    \n",
    "    vec0 = np.array([0.,0.,0.,0.,0.,1.])\n",
    "    vecf = np.array([0.,0.,0.,0.,0.,1.])\n",
    "    Z = M_to_Z(N_res,M)\n",
    "    # dZ/dlnw\n",
    "    if ( i == 0 ):\n",
    "        dZdlnw = np.dot(vec0,dMidw)    \n",
    "    else:\n",
    "        dZdlnw = np.dot(vec0,M[0])\n",
    "    for res in range(1,N_res):\n",
    "        if (i==res):\n",
    "            dZdlnw = np.dot(dZdlnw,dMidw)\n",
    "        else:\n",
    "            dZdlnw = np.dot(dZdlnw,M[res])\n",
    "    dZdlnw = np.dot(dZdlnw,vecf)\n",
    "    dZdlnw = w*dZdlnw\n",
    "    # dZ/dlnc\n",
    "    if ( i == 0 ):\n",
    "        dZdlnc = np.dot(vec0,dMidc)    \n",
    "    else:\n",
    "        dZdlnc = np.dot(vec0,M[0])\n",
    "    for res in range(1,N_res):\n",
    "        if (i==res):\n",
    "            dZdlnc = np.dot(dZdlnc,dMidc)\n",
    "        else:\n",
    "            dZdlnc = np.dot(dZdlnc,M[res])\n",
    "    dZdlnc = np.dot(dZdlnc,vecf)\n",
    "    dZdlnc = c*dZdlnc\n",
    "    # d2Z/dlnwlnc\n",
    "    if ( i == 0 ):\n",
    "        d2Z = np.dot(vec0,d2Mi)    \n",
    "    else:\n",
    "        d2Z = np.dot(vec0,M[0])\n",
    "    for res in range(1,N_res):\n",
    "        if (i==res):\n",
    "            d2Z = np.dot(d2Z,d2Mi)\n",
    "        else:\n",
    "            d2Z = np.dot(d2Z,M[res])\n",
    "    d2Z = np.dot(d2Z,vecf)\n",
    "    d2Z = w*c*d2Z\n",
    "    \n",
    "    return (1./(Z**2))*( (Z*d2Z) - (dZdlnw*dZdlnc) )\n",
    "\n",
    "def get_Ns(N_res,M,lnw,lnc):\n",
    "    Ns = 0.\n",
    "    for res in range(1,N_res-1):\n",
    "        w = np.exp(lnw[res])\n",
    "        c = np.exp(lnc[res])\n",
    "        Ns += calc_Ns_i(N_res,M,res,w,c)\n",
    "    return Ns\n",
    "\n",
    "def calc_Nl_i(N_res,M,i,v):\n",
    "    from copy import deepcopy\n",
    "    M_i = np.zeros(shape=M[i].shape)\n",
    "    M_i[4,3] = deepcopy(M[i][4,3])/v\n",
    "    vec0 = np.array([0.,0.,0.,0.,0.,1.])\n",
    "    vecf = np.array([0.,0.,0.,0.,0.,1.])\n",
    "    Z = M_to_Z(N_res,M)\n",
    "    if ( i == 0 ):\n",
    "        dZdv = np.dot(vec0,M_i)    \n",
    "    else:\n",
    "        dZdv = np.dot(vec0,M[0])\n",
    "    for res in range(1,N_res):\n",
    "        if (i==res):\n",
    "            dZdv = np.dot(dZdv,M_i)\n",
    "        else:\n",
    "            dZdv = np.dot(dZdv,M[res])\n",
    "    dZdv = np.dot(dZdv,vecf)\n",
    "    return (v/Z)*dZdv\n",
    "\n",
    "def get_Nl(N_res,M,lnv):\n",
    "    Nl = 0.\n",
    "    for res in range(0,N_res):\n",
    "        v = np.exp(lnv[res])\n",
    "        Nl += calc_Nl_i(N_res,M,res,v)\n",
    "    return Nl\n",
    "\n",
    "def get_l(N_res,M,lnv):\n",
    "    Nl = 0.\n",
    "    for res in range(1,N_res-1):\n",
    "        v = np.exp(lnv[res])\n",
    "        Nl += calc_Nl_i(N_res,M,res,v)\n",
    "    return Nl"
   ]
  },
  {
   "cell_type": "code",
   "execution_count": 25,
   "metadata": {
    "collapsed": false
   },
   "outputs": [],
   "source": [
    "N_res = lnw.shape[2]\n",
    "M_max = wv_to_M(N_res,lnw[proc_max,samp_max,:][0],lnv[proc_max,samp_max,:][0],lnc[proc_max,samp_max,:][0],lnn[proc_max,samp_max,:][0])\n",
    "h_i = get_h(N_res,M_max,lnw[proc_max,samp_max,:][0])"
   ]
  },
  {
   "cell_type": "code",
   "execution_count": 26,
   "metadata": {
    "collapsed": false
   },
   "outputs": [
    {
     "data": {
      "text/plain": [
       "array([ 0.        ,  0.        ,  0.0352531 ,  0.03290667,  0.03080991,\n",
       "        0.        ,  0.        ])"
      ]
     },
     "execution_count": 26,
     "metadata": {},
     "output_type": "execute_result"
    }
   ],
   "source": [
    "h_i"
   ]
  },
  {
   "cell_type": "code",
   "execution_count": 27,
   "metadata": {
    "collapsed": false
   },
   "outputs": [
    {
     "data": {
      "text/plain": [
       "[<matplotlib.lines.Line2D at 0x7ff235df0710>]"
      ]
     },
     "execution_count": 27,
     "metadata": {},
     "output_type": "execute_result"
    },
    {
     "data": {
      "image/png": "[encoded data removed]",
      "text/plain": [
       "<matplotlib.figure.Figure at 0x7ff235fd9e10>"
      ]
     },
     "metadata": {},
     "output_type": "display_data"
    }
   ],
   "source": [
    "#plt.plot(np.arange(N_res-2)+1,(Nw_adj)/Nk,color='k',marker='x')\n",
    "plt.plot(np.arange(N_res-2)+1,(Nw)/Nk,color='b',marker='x')\n",
    "plt.plot(np.arange(N_res-2)+1,(Nw_cap)/Nk,color='cyan',marker='x')\n",
    "plt.plot(h_i,color='r')"
   ]
  },
  {
   "cell_type": "code",
   "execution_count": 28,
   "metadata": {
    "collapsed": false
   },
   "outputs": [],
   "source": [
    "mle = pyemma.msm.markov_model(Tmle)\n",
    "mu = mle.eigenvectors_left(k=1)"
   ]
  },
  {
   "cell_type": "code",
   "execution_count": 36,
   "metadata": {
    "collapsed": false
   },
   "outputs": [
    {
     "name": "stdout",
     "output_type": "stream",
     "text": [
      "0.0819093371184\n",
      "0.0453859617762\n",
      "0.0989468814739\n"
     ]
    }
   ],
   "source": [
    "Ns = get_Ns(N_res,M_max,lnw[proc_max,samp_max,:][0],lnv[proc_max,samp_max,:][0])\n",
    "Ns_sim = np.sum(mu*Ns_weight)\n",
    "Nhb_sim = np.sum(mu*Nhb_weight)\n",
    "print Ns\n",
    "print Ns_sim\n",
    "print Nhb_sim"
   ]
  },
  {
   "cell_type": "code",
   "execution_count": 30,
   "metadata": {
    "collapsed": false
   },
   "outputs": [
    {
     "name": "stdout",
     "output_type": "stream",
     "text": [
      "1.22198416229\n",
      "0.828136781702\n"
     ]
    }
   ],
   "source": [
    "Nl = get_Nl(N_res,M_max,lnv[proc_max,samp_max,:][0])\n",
    "Nl_sim = np.sum(mu*Nl_weight)\n",
    "print Nl\n",
    "print Nl_sim"
   ]
  },
  {
   "cell_type": "code",
   "execution_count": 31,
   "metadata": {
    "collapsed": false
   },
   "outputs": [
    {
     "name": "stdout",
     "output_type": "stream",
     "text": [
      "1.22198416229\n",
      "0.429896975843\n"
     ]
    }
   ],
   "source": [
    "l = get_l(N_res,M_max,lnv[proc_max,samp_max,:][0])\n",
    "l_sim = np.sum(mu*l_weight)\n",
    "print l\n",
    "print l_sim"
   ]
  },
  {
   "cell_type": "code",
   "execution_count": 32,
   "metadata": {
    "collapsed": false
   },
   "outputs": [],
   "source": [
    "# Now, let's make a kinetic zipper model"
   ]
  },
  {
   "cell_type": "code",
   "execution_count": 33,
   "metadata": {
    "collapsed": false
   },
   "outputs": [],
   "source": [
    "k0 = 1.\n",
    "w_opt = np.exp(lnw[proc_max,samp_max,:][0])[0]\n",
    "v_opt = np.exp(lnv[proc_max,samp_max,:][0])[0]\n",
    "hin = 1.*v_opt\n",
    "kon = k0*hin\n",
    "K = np.zeros(shape=(len(cc_full),len(cc_full)))\n",
    "for indi,si in enumerate(cc_full):\n",
    "    for indj,sj in enumerate(cc_full):\n",
    "        if ( np.sum(np.abs(si-sj)) != 1 ):\n",
    "            continue\n",
    "        ind = np.where(np.abs(si-sj)==1)[0][0]\n",
    "        if ( sj[ind] == 0 ): # flip from c to h\n",
    "            K[indi,indj] = 1.*kon\n",
    "        else:\n",
    "            wi = state_LR_weights[indi,ind]\n",
    "            if ( wi == 1 ):\n",
    "                wi = 1.*v_opt\n",
    "            elif ( wi == 2 ):\n",
    "                wi = 1.*w_opt\n",
    "            else:\n",
    "                wi = 1.\n",
    "            wj = state_LR_weights[indj,ind]\n",
    "            if ( wj == 1 ):\n",
    "                wj = 1.*v_opt\n",
    "            elif ( wi == 2 ):\n",
    "                wj = 1.*w_opt\n",
    "            else:\n",
    "                wj = 1.\n",
    "            K[indi,indj] = (wj/wi)*kon\n",
    "# now set the diagonal elements\n",
    "for state in range(len(cc_full)):\n",
    "    K[state,state] = -np.sum(K[state])\n",
    "\n",
    "#np.sum(K,axis=1)\n",
    "            \n",
    "        #print si, sj"
   ]
  },
  {
   "cell_type": "code",
   "execution_count": 34,
   "metadata": {
    "collapsed": false
   },
   "outputs": [
    {
     "data": {
      "text/plain": [
       "array([ 1.,  1.,  1.,  1.,  1.,  1.,  1.,  1.,  1.,  1.,  1.,  1.,  1.,\n",
       "        1.,  1.,  1.,  1.,  1.,  1.,  1.,  1.,  1.,  1.,  1.,  1.,  1.,\n",
       "        1.,  1.,  1.,  1.,  1.,  1.])"
      ]
     },
     "execution_count": 34,
     "metadata": {},
     "output_type": "execute_result"
    }
   ],
   "source": [
    "T_zip = scipy.linalg.expm(k0*K)\n",
    "np.sum(T_zip,axis=1)"
   ]
  },
  {
   "cell_type": "code",
   "execution_count": 35,
   "metadata": {
    "collapsed": false
   },
   "outputs": [
    {
     "data": {
      "text/plain": [
       "<matplotlib.collections.PolyCollection at 0x7ff2360fadd0>"
      ]
     },
     "execution_count": 35,
     "metadata": {},
     "output_type": "execute_result"
    },
    {
     "data": {
      "image/png": "[encoded data removed]",
      "text/plain": [
       "<matplotlib.figure.Figure at 0x7ff235fdd590>"
      ]
     },
     "metadata": {},
     "output_type": "display_data"
    }
   ],
   "source": [
    "plt.pcolor(T_zip)"
   ]
  },
  {
   "cell_type": "code",
   "execution_count": null,
   "metadata": {
    "collapsed": false
   },
   "outputs": [],
   "source": [
    "np.savez('LR_opt',lnw_opt=lnw[proc_max,samp_max,:][0],lnv_opt=lnv[proc_max,samp_max,:][0])"
   ]
  },
  {
   "cell_type": "code",
   "execution_count": null,
   "metadata": {
    "collapsed": false
   },
   "outputs": [],
   "source": [
    "np.savez('eqm_prop',h_i_LR=h_i,h_i_sim=h_i_sim,Ns_LR=Ns,Ns_sim=Ns_sim,Nl_LR=Nl,Nl_sim=Nl_sim,l_LR=l,l_sim=l_sim)"
   ]
  },
  {
   "cell_type": "code",
   "execution_count": null,
   "metadata": {
    "collapsed": false
   },
   "outputs": [],
   "source": [
    "np.savez('kin_zip',K_zip=K,T_zip=T_zip)"
   ]
  },
  {
   "cell_type": "code",
   "execution_count": null,
   "metadata": {
    "collapsed": false
   },
   "outputs": [],
   "source": []
  },
  {
   "cell_type": "code",
   "execution_count": null,
   "metadata": {
    "collapsed": false
   },
   "outputs": [],
   "source": []
  },
  {
   "cell_type": "code",
   "execution_count": null,
   "metadata": {
    "collapsed": false
   },
   "outputs": [],
   "source": []
  },
  {
   "cell_type": "code",
   "execution_count": null,
   "metadata": {
    "collapsed": false
   },
   "outputs": [],
   "source": []
  },
  {
   "cell_type": "code",
   "execution_count": null,
   "metadata": {
    "collapsed": false
   },
   "outputs": [],
   "source": []
  },
  {
   "cell_type": "code",
   "execution_count": null,
   "metadata": {
    "collapsed": false
   },
   "outputs": [],
   "source": []
  },
  {
   "cell_type": "code",
   "execution_count": null,
   "metadata": {
    "collapsed": false
   },
   "outputs": [],
   "source": []
  },
  {
   "cell_type": "code",
   "execution_count": null,
   "metadata": {
    "collapsed": false
   },
   "outputs": [],
   "source": []
  },
  {
   "cell_type": "code",
   "execution_count": null,
   "metadata": {
    "collapsed": false
   },
   "outputs": [],
   "source": []
  },
  {
   "cell_type": "code",
   "execution_count": null,
   "metadata": {
    "collapsed": false
   },
   "outputs": [],
   "source": []
  },
  {
   "cell_type": "code",
   "execution_count": null,
   "metadata": {
    "collapsed": false
   },
   "outputs": [],
   "source": []
  },
  {
   "cell_type": "code",
   "execution_count": null,
   "metadata": {
    "collapsed": false
   },
   "outputs": [],
   "source": []
  },
  {
   "cell_type": "code",
   "execution_count": null,
   "metadata": {
    "collapsed": false
   },
   "outputs": [],
   "source": []
  },
  {
   "cell_type": "code",
   "execution_count": null,
   "metadata": {
    "collapsed": false
   },
   "outputs": [],
   "source": []
  },
  {
   "cell_type": "code",
   "execution_count": null,
   "metadata": {
    "collapsed": false
   },
   "outputs": [],
   "source": []
  },
  {
   "cell_type": "code",
   "execution_count": null,
   "metadata": {
    "collapsed": false
   },
   "outputs": [],
   "source": []
  },
  {
   "cell_type": "code",
   "execution_count": null,
   "metadata": {
    "collapsed": false
   },
   "outputs": [],
   "source": []
  },
  {
   "cell_type": "code",
   "execution_count": null,
   "metadata": {
    "collapsed": false
   },
   "outputs": [],
   "source": []
  },
  {
   "cell_type": "code",
   "execution_count": null,
   "metadata": {
    "collapsed": false
   },
   "outputs": [],
   "source": []
  },
  {
   "cell_type": "code",
   "execution_count": null,
   "metadata": {
    "collapsed": false
   },
   "outputs": [],
   "source": []
  },
  {
   "cell_type": "code",
   "execution_count": null,
   "metadata": {
    "collapsed": false
   },
   "outputs": [],
   "source": []
  },
  {
   "cell_type": "code",
   "execution_count": null,
   "metadata": {
    "collapsed": false
   },
   "outputs": [],
   "source": []
  },
  {
   "cell_type": "code",
   "execution_count": null,
   "metadata": {
    "collapsed": false
   },
   "outputs": [],
   "source": []
  },
  {
   "cell_type": "code",
   "execution_count": null,
   "metadata": {
    "collapsed": false
   },
   "outputs": [],
   "source": []
  },
  {
   "cell_type": "code",
   "execution_count": null,
   "metadata": {
    "collapsed": false
   },
   "outputs": [],
   "source": []
  },
  {
   "cell_type": "code",
   "execution_count": null,
   "metadata": {
    "collapsed": false
   },
   "outputs": [],
   "source": []
  },
  {
   "cell_type": "code",
   "execution_count": null,
   "metadata": {
    "collapsed": false
   },
   "outputs": [],
   "source": []
  },
  {
   "cell_type": "code",
   "execution_count": null,
   "metadata": {
    "collapsed": false
   },
   "outputs": [],
   "source": []
  },
  {
   "cell_type": "code",
   "execution_count": null,
   "metadata": {
    "collapsed": false
   },
   "outputs": [],
   "source": []
  },
  {
   "cell_type": "code",
   "execution_count": null,
   "metadata": {
    "collapsed": false
   },
   "outputs": [],
   "source": []
  },
  {
   "cell_type": "code",
   "execution_count": null,
   "metadata": {
    "collapsed": false
   },
   "outputs": [],
   "source": []
  },
  {
   "cell_type": "code",
   "execution_count": null,
   "metadata": {
    "collapsed": false
   },
   "outputs": [],
   "source": []
  },
  {
   "cell_type": "code",
   "execution_count": null,
   "metadata": {
    "collapsed": false
   },
   "outputs": [],
   "source": []
  },
  {
   "cell_type": "code",
   "execution_count": null,
   "metadata": {
    "collapsed": false
   },
   "outputs": [],
   "source": []
  },
  {
   "cell_type": "code",
   "execution_count": null,
   "metadata": {
    "collapsed": false
   },
   "outputs": [],
   "source": []
  },
  {
   "cell_type": "code",
   "execution_count": null,
   "metadata": {
    "collapsed": false
   },
   "outputs": [],
   "source": []
  },
  {
   "cell_type": "code",
   "execution_count": null,
   "metadata": {
    "collapsed": false
   },
   "outputs": [],
   "source": []
  },
  {
   "cell_type": "code",
   "execution_count": null,
   "metadata": {
    "collapsed": false
   },
   "outputs": [],
   "source": []
  },
  {
   "cell_type": "code",
   "execution_count": null,
   "metadata": {
    "collapsed": false
   },
   "outputs": [],
   "source": []
  },
  {
   "cell_type": "code",
   "execution_count": null,
   "metadata": {
    "collapsed": false
   },
   "outputs": [],
   "source": []
  },
  {
   "cell_type": "code",
   "execution_count": null,
   "metadata": {
    "collapsed": false
   },
   "outputs": [],
   "source": []
  },
  {
   "cell_type": "code",
   "execution_count": null,
   "metadata": {
    "collapsed": false
   },
   "outputs": [],
   "source": []
  },
  {
   "cell_type": "code",
   "execution_count": null,
   "metadata": {
    "collapsed": false
   },
   "outputs": [],
   "source": []
  },
  {
   "cell_type": "code",
   "execution_count": null,
   "metadata": {
    "collapsed": false
   },
   "outputs": [],
   "source": []
  },
  {
   "cell_type": "code",
   "execution_count": null,
   "metadata": {
    "collapsed": false
   },
   "outputs": [],
   "source": []
  },
  {
   "cell_type": "code",
   "execution_count": null,
   "metadata": {
    "collapsed": false
   },
   "outputs": [],
   "source": []
  },
  {
   "cell_type": "code",
   "execution_count": null,
   "metadata": {
    "collapsed": false
   },
   "outputs": [],
   "source": []
  },
  {
   "cell_type": "code",
   "execution_count": null,
   "metadata": {
    "collapsed": false
   },
   "outputs": [],
   "source": []
  },
  {
   "cell_type": "code",
   "execution_count": null,
   "metadata": {
    "collapsed": false
   },
   "outputs": [],
   "source": []
  },
  {
   "cell_type": "code",
   "execution_count": null,
   "metadata": {
    "collapsed": false
   },
   "outputs": [],
   "source": []
  },
  {
   "cell_type": "code",
   "execution_count": null,
   "metadata": {
    "collapsed": false
   },
   "outputs": [],
   "source": []
  },
  {
   "cell_type": "code",
   "execution_count": null,
   "metadata": {
    "collapsed": false
   },
   "outputs": [],
   "source": []
  },
  {
   "cell_type": "code",
   "execution_count": null,
   "metadata": {
    "collapsed": false
   },
   "outputs": [],
   "source": []
  },
  {
   "cell_type": "code",
   "execution_count": null,
   "metadata": {
    "collapsed": false
   },
   "outputs": [],
   "source": []
  },
  {
   "cell_type": "code",
   "execution_count": null,
   "metadata": {
    "collapsed": false
   },
   "outputs": [],
   "source": []
  },
  {
   "cell_type": "code",
   "execution_count": null,
   "metadata": {
    "collapsed": false
   },
   "outputs": [],
   "source": []
  },
  {
   "cell_type": "code",
   "execution_count": null,
   "metadata": {
    "collapsed": false
   },
   "outputs": [],
   "source": []
  },
  {
   "cell_type": "code",
   "execution_count": null,
   "metadata": {
    "collapsed": false
   },
   "outputs": [],
   "source": []
  },
  {
   "cell_type": "code",
   "execution_count": null,
   "metadata": {
    "collapsed": false
   },
   "outputs": [],
   "source": []
  },
  {
   "cell_type": "code",
   "execution_count": null,
   "metadata": {
    "collapsed": false
   },
   "outputs": [],
   "source": []
  },
  {
   "cell_type": "code",
   "execution_count": null,
   "metadata": {
    "collapsed": false
   },
   "outputs": [],
   "source": []
  },
  {
   "cell_type": "code",
   "execution_count": null,
   "metadata": {
    "collapsed": false
   },
   "outputs": [],
   "source": []
  },
  {
   "cell_type": "code",
   "execution_count": null,
   "metadata": {
    "collapsed": false
   },
   "outputs": [],
   "source": []
  },
  {
   "cell_type": "code",
   "execution_count": null,
   "metadata": {
    "collapsed": false
   },
   "outputs": [],
   "source": []
  },
  {
   "cell_type": "code",
   "execution_count": null,
   "metadata": {
    "collapsed": false
   },
   "outputs": [],
   "source": []
  },
  {
   "cell_type": "code",
   "execution_count": null,
   "metadata": {
    "collapsed": false
   },
   "outputs": [],
   "source": []
  },
  {
   "cell_type": "code",
   "execution_count": null,
   "metadata": {
    "collapsed": false
   },
   "outputs": [],
   "source": []
  },
  {
   "cell_type": "code",
   "execution_count": null,
   "metadata": {
    "collapsed": false
   },
   "outputs": [],
   "source": []
  },
  {
   "cell_type": "code",
   "execution_count": null,
   "metadata": {
    "collapsed": false
   },
   "outputs": [],
   "source": []
  },
  {
   "cell_type": "code",
   "execution_count": null,
   "metadata": {
    "collapsed": true
   },
   "outputs": [],
   "source": []
  }
 ],
 "metadata": {
  "kernelspec": {
   "display_name": "Python 2",
   "language": "python",
   "name": "python2"
  },
  "language_info": {
   "codemirror_mode": {
    "name": "ipython",
    "version": 2
   },
   "file_extension": ".py",
   "mimetype": "text/x-python",
   "name": "python",
   "nbconvert_exporter": "python",
   "pygments_lexer": "ipython2",
   "version": "2.7.11"
  }
 },
 "nbformat": 4,
 "nbformat_minor": 0
}
